{
 "cells": [
  {
   "cell_type": "code",
   "execution_count": 1,
   "metadata": {},
   "outputs": [],
   "source": [
    "from __future__ import print_function, division\n",
    "import h5py as h5py\n",
    "import numpy as np\n",
    "import pandas as pd\n",
    "import matplotlib.pyplot as plt\n",
    "import json\n",
    "import pprint as pprint\n",
    "from plaid_common import PlaidCommon"
   ]
  },
  {
   "cell_type": "code",
   "execution_count": 3,
   "metadata": {},
   "outputs": [],
   "source": [
    "plaind_file = h5py.File(\"../../data/PLAID/plaid_new_.hdf5\")\n",
    "aggregated = plaind_file[\"aggregated\"]\n",
    "submetered = plaind_file[\"submetered\"]\n",
    "\n",
    "plaind_common = PlaidCommon(plaid_file=plaind_file)"
   ]
  },
  {
   "cell_type": "code",
   "execution_count": 4,
   "metadata": {},
   "outputs": [
    {
     "ename": "AttributeError",
     "evalue": "'PlaidCommon' object has no attribute 'plaind_file'",
     "output_type": "error",
     "traceback": [
      "\u001b[0;31m---------------------------------------------------------------------------\u001b[0m",
      "\u001b[0;31mAttributeError\u001b[0m                            Traceback (most recent call last)",
      "Cell \u001b[0;32mIn[4], line 1\u001b[0m\n\u001b[0;32m----> 1\u001b[0m \u001b[43mplaind_common\u001b[49m\u001b[38;5;241;43m.\u001b[39;49m\u001b[43mload_metadata_aggregated\u001b[49m\u001b[43m(\u001b[49m\u001b[43m)\u001b[49m\n",
      "File \u001b[0;32m~/Code/mylab-nilm-files/data_adapter/src/plaid_adapter/plaid_common.py:24\u001b[0m, in \u001b[0;36mPlaidCommon.load_metadata_aggregated\u001b[0;34m(self)\u001b[0m\n\u001b[1;32m     23\u001b[0m \u001b[38;5;28;01mdef\u001b[39;00m \u001b[38;5;21mload_metadata_aggregated\u001b[39m(\u001b[38;5;28mself\u001b[39m):    \n\u001b[0;32m---> 24\u001b[0m     metadata \u001b[38;5;241m=\u001b[39m \u001b[38;5;28;43mself\u001b[39;49m\u001b[38;5;241;43m.\u001b[39;49m\u001b[43mplaind_file\u001b[49m[\u001b[38;5;124m\"\u001b[39m\u001b[38;5;124maggregated\u001b[39m\u001b[38;5;124m\"\u001b[39m]\n\u001b[1;32m     25\u001b[0m     aggregated_dict\u001b[38;5;241m=\u001b[39m{}\n\u001b[1;32m     26\u001b[0m     \u001b[38;5;28;01mfor\u001b[39;00m file_number \u001b[38;5;129;01min\u001b[39;00m metadata:\n",
      "\u001b[0;31mAttributeError\u001b[0m: 'PlaidCommon' object has no attribute 'plaind_file'"
     ]
    }
   ],
   "source": [
    "plaind_common.load_metadata_aggregated()"
   ]
  },
  {
   "cell_type": "code",
   "execution_count": 17,
   "metadata": {},
   "outputs": [],
   "source": [
    "submetered_metadatas = []\n",
    "for idx in submetered:\n",
    "    submeter = submetered[idx]\n",
    "    submetered_metadatas.append(json.loads(submeter.attrs['metadata']))\n",
    "    \n",
    "aggregated_metadatas = []\n",
    "for idx in aggregated:\n",
    "    aggregate = aggregated[idx]\n",
    "    aggregated_metadatas.append(json.loads(aggregate.attrs['metadata']))"
   ]
  }
 ],
 "metadata": {
  "kernelspec": {
   "display_name": "nilmtk-env",
   "language": "python",
   "name": "python3"
  },
  "language_info": {
   "codemirror_mode": {
    "name": "ipython",
    "version": 3
   },
   "file_extension": ".py",
   "mimetype": "text/x-python",
   "name": "python",
   "nbconvert_exporter": "python",
   "pygments_lexer": "ipython3",
   "version": "3.8.6"
  }
 },
 "nbformat": 4,
 "nbformat_minor": 2
}
