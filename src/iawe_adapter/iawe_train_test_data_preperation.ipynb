{
 "cells": [
  {
   "cell_type": "code",
   "execution_count": 9,
   "metadata": {},
   "outputs": [],
   "source": [
    "import pandas as pd\n",
    "import numpy as np\n",
    "import os\n",
    "from nilm_pre_processing import NilmPreProcessing"
   ]
  },
  {
   "cell_type": "code",
   "execution_count": 11,
   "metadata": {},
   "outputs": [
    {
     "name": "stdout",
     "output_type": "stream",
     "text": [
      "wet_appliance_aggregate.csv\n",
      "12084\n",
      "fridges_aggregate.csv\n",
      "1896976\n",
      "air_conditioner_1_aggregate.csv\n",
      "274197\n",
      "air_conditioner_2_aggregate.csv\n",
      "307101\n",
      "washing_machine_aggregate.csv\n",
      "13482\n",
      "clothes_iron_aggregate.csv\n",
      "1673\n",
      "mains_data_1_aggregate.csv\n",
      "1391616\n"
     ]
    }
   ],
   "source": [
    "base_path = \"/opt/nilm-shared-data/nilm_device_detection/other_dataset/iawe/labeled_segments/aggregate\"\n",
    "dfs = []\n",
    "for files in os.listdir(base_path):\n",
    "    if files.endswith(\".csv\"):\n",
    "        print(files)\n",
    "        df = pd.read_csv(f\"{base_path}/{files}\")\n",
    "        df = df[[\"unix_ts\", \"Irms\", \"P\", \"AvgPowerFactor\", \"Q\", \"S\", \"Label\"]]\n",
    "        df = df.sort_values(\"unix_ts\")\n",
    "        dfs.append(df) \n",
    "        print(len(df))\n",
    "\n",
    "final_df = pd.concat(dfs, axis=0)"
   ]
  },
  {
   "cell_type": "code",
   "execution_count": 8,
   "metadata": {},
   "outputs": [
    {
     "data": {
      "text/plain": [
       "3897129"
      ]
     },
     "execution_count": 8,
     "metadata": {},
     "output_type": "execute_result"
    }
   ],
   "source": [
    "len(final_df)"
   ]
  },
  {
   "cell_type": "code",
   "execution_count": 10,
   "metadata": {},
   "outputs": [
    {
     "data": {
      "text/plain": [
       "{'ac1_s1': 29651,\n",
       " 'ac1_s1, ac2_s1': 84,\n",
       " 'ac1_s1, ac2_s2': 117,\n",
       " 'ac1_s1, ac2_s3': 60,\n",
       " 'ac1_s2': 13415,\n",
       " 'ac1_s2, ac2_s1': 4,\n",
       " 'ac1_s3': 255436,\n",
       " 'ac1_s3, ac2_s1': 9517,\n",
       " 'ac1_s3, ac2_s2': 1804,\n",
       " 'ac1_s3, ac2_s3': 14698,\n",
       " 'ac2_s1': 126452,\n",
       " 'ac2_s2': 14750,\n",
       " 'ac2_s3': 203115,\n",
       " 'clothes_iron': 1877,\n",
       " 'fridges_s1': 2979771,\n",
       " 'fridges_s1, ac1_s1': 2846,\n",
       " 'fridges_s1, ac1_s1, ac2_s1': 88,\n",
       " 'fridges_s1, ac1_s1, ac2_s2': 140,\n",
       " 'fridges_s1, ac1_s1, ac2_s3': 526,\n",
       " 'fridges_s1, ac1_s2': 183,\n",
       " 'fridges_s1, ac1_s2, ac2_s1': 3,\n",
       " 'fridges_s1, ac1_s2, ac2_s2': 2,\n",
       " 'fridges_s1, ac1_s2, ac2_s3': 17,\n",
       " 'fridges_s1, ac1_s3': 54698,\n",
       " 'fridges_s1, ac1_s3, ac2_s1': 15944,\n",
       " 'fridges_s1, ac1_s3, ac2_s2': 2383,\n",
       " 'fridges_s1, ac1_s3, ac2_s3': 35284,\n",
       " 'fridges_s1, ac2_s1': 36255,\n",
       " 'fridges_s1, ac2_s2': 2901,\n",
       " 'fridges_s1, ac2_s3': 51033,\n",
       " 'fridges_s1, clothes_iron': 874,\n",
       " 'fridges_s1, washing_machine_s1': 6214,\n",
       " 'washing_machine_s1': 16792,\n",
       " 'wet_appliance_s1': 15011,\n",
       " 'wet_appliance_s1, ac1_s1': 28,\n",
       " 'wet_appliance_s1, ac1_s2, ac2_s3': 3,\n",
       " 'wet_appliance_s1, ac1_s3': 50,\n",
       " 'wet_appliance_s1, ac1_s3, ac2_s1': 34,\n",
       " 'wet_appliance_s1, ac1_s3, ac2_s2': 3,\n",
       " 'wet_appliance_s1, ac1_s3, ac2_s3': 74,\n",
       " 'wet_appliance_s1, ac2_s1': 1,\n",
       " 'wet_appliance_s1, ac2_s3': 2,\n",
       " 'wet_appliance_s1, fridges_s1': 4715,\n",
       " 'wet_appliance_s1, fridges_s1, ac1_s1': 8,\n",
       " 'wet_appliance_s1, fridges_s1, ac1_s2, ac2_s3': 16,\n",
       " 'wet_appliance_s1, fridges_s1, ac1_s3': 51,\n",
       " 'wet_appliance_s1, fridges_s1, ac1_s3, ac2_s1': 29,\n",
       " 'wet_appliance_s1, fridges_s1, ac1_s3, ac2_s2': 1,\n",
       " 'wet_appliance_s1, fridges_s1, ac1_s3, ac2_s3': 77,\n",
       " 'wet_appliance_s1, fridges_s1, ac2_s1': 61,\n",
       " 'wet_appliance_s1, fridges_s1, ac2_s3': 4,\n",
       " 'wet_appliance_s1, fridges_s1, clothes_iron': 1,\n",
       " 'wet_appliance_s1, washing_machine_s1': 26}"
      ]
     },
     "execution_count": 10,
     "metadata": {},
     "output_type": "execute_result"
    }
   ],
   "source": [
    "nilm_pp = NilmPreProcessing()\n",
    "nilm_pp.count_labels(final_df[\"Label\"])"
   ]
  },
  {
   "cell_type": "code",
   "execution_count": 16,
   "metadata": {},
   "outputs": [
    {
     "data": {
      "text/html": [
       "<div>\n",
       "<style scoped>\n",
       "    .dataframe tbody tr th:only-of-type {\n",
       "        vertical-align: middle;\n",
       "    }\n",
       "\n",
       "    .dataframe tbody tr th {\n",
       "        vertical-align: top;\n",
       "    }\n",
       "\n",
       "    .dataframe thead th {\n",
       "        text-align: right;\n",
       "    }\n",
       "</style>\n",
       "<table border=\"1\" class=\"dataframe\">\n",
       "  <thead>\n",
       "    <tr style=\"text-align: right;\">\n",
       "      <th></th>\n",
       "      <th>unix_ts</th>\n",
       "      <th>Irms</th>\n",
       "      <th>P</th>\n",
       "      <th>AvgPowerFactor</th>\n",
       "      <th>Q</th>\n",
       "      <th>S</th>\n",
       "      <th>Label</th>\n",
       "    </tr>\n",
       "  </thead>\n",
       "  <tbody>\n",
       "    <tr>\n",
       "      <th>36177</th>\n",
       "      <td>1.372690e+09</td>\n",
       "      <td>11.8241</td>\n",
       "      <td>2622.72</td>\n",
       "      <td>0.985570</td>\n",
       "      <td>150.769</td>\n",
       "      <td>2661.12</td>\n",
       "      <td>fridges_s1, ac1_s1</td>\n",
       "    </tr>\n",
       "    <tr>\n",
       "      <th>36178</th>\n",
       "      <td>1.372690e+09</td>\n",
       "      <td>11.7389</td>\n",
       "      <td>2622.60</td>\n",
       "      <td>0.992721</td>\n",
       "      <td>150.857</td>\n",
       "      <td>2641.83</td>\n",
       "      <td>fridges_s1, ac1_s1</td>\n",
       "    </tr>\n",
       "    <tr>\n",
       "      <th>36179</th>\n",
       "      <td>1.372690e+09</td>\n",
       "      <td>11.7976</td>\n",
       "      <td>2624.19</td>\n",
       "      <td>0.988340</td>\n",
       "      <td>148.505</td>\n",
       "      <td>2655.15</td>\n",
       "      <td>fridges_s1, ac1_s1</td>\n",
       "    </tr>\n",
       "    <tr>\n",
       "      <th>36180</th>\n",
       "      <td>1.372690e+09</td>\n",
       "      <td>11.7986</td>\n",
       "      <td>2625.14</td>\n",
       "      <td>0.988645</td>\n",
       "      <td>150.491</td>\n",
       "      <td>2655.29</td>\n",
       "      <td>fridges_s1, ac1_s1</td>\n",
       "    </tr>\n",
       "    <tr>\n",
       "      <th>36181</th>\n",
       "      <td>1.372690e+09</td>\n",
       "      <td>11.8014</td>\n",
       "      <td>2626.48</td>\n",
       "      <td>0.988960</td>\n",
       "      <td>140.354</td>\n",
       "      <td>2655.80</td>\n",
       "      <td>fridges_s1, ac1_s1</td>\n",
       "    </tr>\n",
       "  </tbody>\n",
       "</table>\n",
       "</div>"
      ],
      "text/plain": [
       "            unix_ts     Irms        P  AvgPowerFactor        Q        S  \\\n",
       "36177  1.372690e+09  11.8241  2622.72        0.985570  150.769  2661.12   \n",
       "36178  1.372690e+09  11.7389  2622.60        0.992721  150.857  2641.83   \n",
       "36179  1.372690e+09  11.7976  2624.19        0.988340  148.505  2655.15   \n",
       "36180  1.372690e+09  11.7986  2625.14        0.988645  150.491  2655.29   \n",
       "36181  1.372690e+09  11.8014  2626.48        0.988960  140.354  2655.80   \n",
       "\n",
       "                    Label  \n",
       "36177  fridges_s1, ac1_s1  \n",
       "36178  fridges_s1, ac1_s1  \n",
       "36179  fridges_s1, ac1_s1  \n",
       "36180  fridges_s1, ac1_s1  \n",
       "36181  fridges_s1, ac1_s1  "
      ]
     },
     "execution_count": 16,
     "metadata": {},
     "output_type": "execute_result"
    }
   ],
   "source": [
    "fridge_ac1_df = final_df[final_df[\"Label\"] == \"fridges_s1, ac1_s1\"]\n",
    "test_df = fridge_ac1_df.head()\n",
    "test_df"
   ]
  },
  {
   "cell_type": "code",
   "execution_count": 17,
   "metadata": {},
   "outputs": [],
   "source": [
    "ac1_test_df = final_df[final_df[\"Label\"] == \"ac1_s1\"]\n",
    "ac1_test_df = ac1_test_df[ac1_test_df[\"unix_ts\"].isin(test_df[\"unix_ts\"].tolist())]"
   ]
  },
  {
   "cell_type": "code",
   "execution_count": 18,
   "metadata": {},
   "outputs": [
    {
     "data": {
      "text/html": [
       "<div>\n",
       "<style scoped>\n",
       "    .dataframe tbody tr th:only-of-type {\n",
       "        vertical-align: middle;\n",
       "    }\n",
       "\n",
       "    .dataframe tbody tr th {\n",
       "        vertical-align: top;\n",
       "    }\n",
       "\n",
       "    .dataframe thead th {\n",
       "        text-align: right;\n",
       "    }\n",
       "</style>\n",
       "<table border=\"1\" class=\"dataframe\">\n",
       "  <thead>\n",
       "    <tr style=\"text-align: right;\">\n",
       "      <th></th>\n",
       "      <th>unix_ts</th>\n",
       "      <th>Irms</th>\n",
       "      <th>P</th>\n",
       "      <th>AvgPowerFactor</th>\n",
       "      <th>Q</th>\n",
       "      <th>S</th>\n",
       "      <th>Label</th>\n",
       "    </tr>\n",
       "  </thead>\n",
       "  <tbody>\n",
       "    <tr>\n",
       "      <th>133599</th>\n",
       "      <td>1.372690e+09</td>\n",
       "      <td>1.974</td>\n",
       "      <td>401.404</td>\n",
       "      <td>0.907585</td>\n",
       "      <td>185.698</td>\n",
       "      <td>442.277</td>\n",
       "      <td>ac1_s1</td>\n",
       "    </tr>\n",
       "    <tr>\n",
       "      <th>133600</th>\n",
       "      <td>1.372690e+09</td>\n",
       "      <td>1.973</td>\n",
       "      <td>401.064</td>\n",
       "      <td>0.908223</td>\n",
       "      <td>184.800</td>\n",
       "      <td>441.592</td>\n",
       "      <td>ac1_s1</td>\n",
       "    </tr>\n",
       "    <tr>\n",
       "      <th>133602</th>\n",
       "      <td>1.372690e+09</td>\n",
       "      <td>1.945</td>\n",
       "      <td>393.891</td>\n",
       "      <td>0.906372</td>\n",
       "      <td>183.602</td>\n",
       "      <td>434.580</td>\n",
       "      <td>ac1_s1</td>\n",
       "    </tr>\n",
       "    <tr>\n",
       "      <th>133603</th>\n",
       "      <td>1.372690e+09</td>\n",
       "      <td>1.943</td>\n",
       "      <td>393.433</td>\n",
       "      <td>0.906741</td>\n",
       "      <td>182.970</td>\n",
       "      <td>433.898</td>\n",
       "      <td>ac1_s1</td>\n",
       "    </tr>\n",
       "    <tr>\n",
       "      <th>133604</th>\n",
       "      <td>1.372690e+09</td>\n",
       "      <td>1.945</td>\n",
       "      <td>393.830</td>\n",
       "      <td>0.907206</td>\n",
       "      <td>182.625</td>\n",
       "      <td>434.113</td>\n",
       "      <td>ac1_s1</td>\n",
       "    </tr>\n",
       "  </tbody>\n",
       "</table>\n",
       "</div>"
      ],
      "text/plain": [
       "             unix_ts   Irms        P  AvgPowerFactor        Q        S   Label\n",
       "133599  1.372690e+09  1.974  401.404        0.907585  185.698  442.277  ac1_s1\n",
       "133600  1.372690e+09  1.973  401.064        0.908223  184.800  441.592  ac1_s1\n",
       "133602  1.372690e+09  1.945  393.891        0.906372  183.602  434.580  ac1_s1\n",
       "133603  1.372690e+09  1.943  393.433        0.906741  182.970  433.898  ac1_s1\n",
       "133604  1.372690e+09  1.945  393.830        0.907206  182.625  434.113  ac1_s1"
      ]
     },
     "execution_count": 18,
     "metadata": {},
     "output_type": "execute_result"
    }
   ],
   "source": [
    "ac1_test_df"
   ]
  },
  {
   "cell_type": "code",
   "execution_count": null,
   "metadata": {},
   "outputs": [],
   "source": [
    "fridge_ac1_df = final_df[final_df[\"Label\"] == \"fridges_s1, ac1_s1\"]\n"
   ]
  }
 ],
 "metadata": {
  "kernelspec": {
   "display_name": "mylab-nilm-env",
   "language": "python",
   "name": "python3"
  },
  "language_info": {
   "codemirror_mode": {
    "name": "ipython",
    "version": 3
   },
   "file_extension": ".py",
   "mimetype": "text/x-python",
   "name": "python",
   "nbconvert_exporter": "python",
   "pygments_lexer": "ipython3",
   "version": "3.12.1"
  }
 },
 "nbformat": 4,
 "nbformat_minor": 2
}
