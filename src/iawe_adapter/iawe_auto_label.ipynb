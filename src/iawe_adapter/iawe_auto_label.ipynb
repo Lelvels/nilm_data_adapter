{
 "cells": [
  {
   "cell_type": "code",
   "execution_count": 1,
   "metadata": {},
   "outputs": [],
   "source": [
    "import pandas as pd\n",
    "import numpy as np\n",
    "import matplotlib.pyplot as plt\n",
    "import os\n",
    "import tqdm\n",
    "from nilm_pre_processing import NilmPreProcessing"
   ]
  },
  {
   "cell_type": "code",
   "execution_count": 6,
   "metadata": {},
   "outputs": [],
   "source": [
    "def sort_filenames(filenames, index):\n",
    "    \"\"\"\n",
    "    Sorts a list of filenames in ascending order based on the numeric part of the filename.\n",
    "\n",
    "    Args:\n",
    "        filenames (list): A list of filenames (e.g., [\"fridge_1568.xlsx\", \"fridge_2773.xlsx\", ...])\n",
    "\n",
    "    Returns:\n",
    "        list: Sorted list of filenames\n",
    "    \"\"\"\n",
    "    def extract_numeric_part(filename):\n",
    "        # Extract the numeric part from the filename (e.g., \"fridge_1568.xlsx\" -> 1568)\n",
    "        return int(filename.split(\"_\")[index].split(\".\")[0])\n",
    "    # Sort the filenames based on the numeric part\n",
    "    sorted_filenames = sorted(filenames, key=extract_numeric_part)\n",
    "    return sorted_filenames\n",
    "\n",
    "def pre_processing_files(directory, label_name, index, higher_threshold, lower_threshold, offset):\n",
    "    unusual_dfs = []\n",
    "    labeled_dfs = []\n",
    "    labeled_file_names = []\n",
    "    unusual_file_names = []\n",
    "    if higher_threshold < lower_threshold:\n",
    "        print(\"Higher threshold must be higher than lower threshold\")\n",
    "        return None\n",
    "    # iterate over files in the directory\n",
    "    for filename in tqdm.tqdm(iterable=sort_filenames(os.listdir(directory), index)):\n",
    "        fp = os.path.join(directory, filename)\n",
    "        if os.path.isfile(fp):\n",
    "            unlabeled_df = pd.read_excel(fp)\n",
    "            drop_idx = []\n",
    "            for i in range(offset):\n",
    "                drop_idx.append(i)\n",
    "                drop_idx.append(len(unlabeled_df)-1 - i)\n",
    "            # Drop 2 first rows and 2 last row\n",
    "            labeled_df = unlabeled_df.drop(drop_idx)\n",
    "            # Attention on this code! This will drop the first column, usally the index column \n",
    "            # of the previous data\n",
    "            labeled_df.drop([labeled_df.columns[0]], axis=1, inplace=True)\n",
    "            power_np = labeled_df[\"P\"].to_numpy()\n",
    "            labeled_df[\"Label\"] = label_name\n",
    "            unexpected_values_higher = power_np[power_np > higher_threshold]\n",
    "            unexpected_values_lower = power_np[power_np < lower_threshold]\n",
    "            if (len(unexpected_values_higher) > 0) or (len(unexpected_values_lower) < 0):\n",
    "                unusual_dfs.append(labeled_df)\n",
    "                unusual_file_names.append(filename)\n",
    "            else:\n",
    "                labeled_dfs.append(labeled_df)\n",
    "                labeled_file_names.append(filename)\n",
    "    return labeled_dfs, labeled_file_names, unusual_dfs, unusual_file_names"
   ]
  },
  {
   "cell_type": "code",
   "execution_count": 3,
   "metadata": {},
   "outputs": [],
   "source": [
    "nilm_pp = NilmPreProcessing()"
   ]
  },
  {
   "cell_type": "code",
   "execution_count": 5,
   "metadata": {},
   "outputs": [
    {
     "data": {
      "text/plain": [
       "'0'"
      ]
     },
     "execution_count": 5,
     "metadata": {},
     "output_type": "execute_result"
    }
   ],
   "source": [
    "\"washing_machine_0.xlsx\".split(\"_\")[2].split(\".\")[0]"
   ]
  },
  {
   "cell_type": "code",
   "execution_count": 7,
   "metadata": {},
   "outputs": [
    {
     "name": "stderr",
     "output_type": "stream",
     "text": [
      "100%|██████████| 20/20 [00:00<00:00, 30.28it/s]\n"
     ]
    }
   ],
   "source": [
    "base_path = \"/opt/nilm-shared-data/nilm_device_detection/other_dataset/iawe/running_segments\"\n",
    "label_name = \"washing_machine_s1\"\n",
    "appliance_path = f\"{base_path}/washing_machine\"\n",
    "labeled_dfs, labeled_file_names, unusual_dfs, unusual_file_names = pre_processing_files(directory=appliance_path, \n",
    "                                                                                        label_name=label_name, \n",
    "                                                                                        index=2, \n",
    "                                                                                        higher_threshold=300, \n",
    "                                                                                        lower_threshold=100,\n",
    "                                                                                        offset=3)"
   ]
  },
  {
   "cell_type": "code",
   "execution_count": 8,
   "metadata": {},
   "outputs": [
    {
     "name": "stdout",
     "output_type": "stream",
     "text": [
      "17\n",
      "17\n",
      "3\n",
      "3\n"
     ]
    }
   ],
   "source": [
    "print(len(labeled_dfs))\n",
    "print(len(labeled_file_names))\n",
    "print(len(unusual_dfs))\n",
    "print(len(unusual_file_names))"
   ]
  },
  {
   "cell_type": "markdown",
   "metadata": {},
   "source": [
    "## Normal files inspect"
   ]
  },
  {
   "cell_type": "code",
   "execution_count": 12,
   "metadata": {},
   "outputs": [
    {
     "data": {
      "text/html": [
       "<div>\n",
       "<style scoped>\n",
       "    .dataframe tbody tr th:only-of-type {\n",
       "        vertical-align: middle;\n",
       "    }\n",
       "\n",
       "    .dataframe tbody tr th {\n",
       "        vertical-align: top;\n",
       "    }\n",
       "\n",
       "    .dataframe thead th {\n",
       "        text-align: right;\n",
       "    }\n",
       "</style>\n",
       "<table border=\"1\" class=\"dataframe\">\n",
       "  <thead>\n",
       "    <tr style=\"text-align: right;\">\n",
       "      <th></th>\n",
       "      <th>Time</th>\n",
       "      <th>unix_ts</th>\n",
       "      <th>Irms</th>\n",
       "      <th>Urms</th>\n",
       "      <th>P</th>\n",
       "      <th>Q</th>\n",
       "      <th>S</th>\n",
       "      <th>AvgPowerFactor</th>\n",
       "      <th>Label</th>\n",
       "    </tr>\n",
       "  </thead>\n",
       "  <tbody>\n",
       "    <tr>\n",
       "      <th>3</th>\n",
       "      <td>2013-07-02 11:02:49+05:30</td>\n",
       "      <td>1372743169</td>\n",
       "      <td>0.973</td>\n",
       "      <td>222.35</td>\n",
       "      <td>213.821</td>\n",
       "      <td>-33.383</td>\n",
       "      <td>216.412</td>\n",
       "      <td>0.988027</td>\n",
       "      <td>washing_machine_s1</td>\n",
       "    </tr>\n",
       "    <tr>\n",
       "      <th>4</th>\n",
       "      <td>2013-07-02 11:02:50+05:30</td>\n",
       "      <td>1372743170</td>\n",
       "      <td>0.951</td>\n",
       "      <td>222.60</td>\n",
       "      <td>209.124</td>\n",
       "      <td>-33.281</td>\n",
       "      <td>211.756</td>\n",
       "      <td>0.987571</td>\n",
       "      <td>washing_machine_s1</td>\n",
       "    </tr>\n",
       "    <tr>\n",
       "      <th>5</th>\n",
       "      <td>2013-07-02 11:02:51+05:30</td>\n",
       "      <td>1372743171</td>\n",
       "      <td>0.912</td>\n",
       "      <td>222.60</td>\n",
       "      <td>200.077</td>\n",
       "      <td>-33.820</td>\n",
       "      <td>202.915</td>\n",
       "      <td>0.986014</td>\n",
       "      <td>washing_machine_s1</td>\n",
       "    </tr>\n",
       "    <tr>\n",
       "      <th>6</th>\n",
       "      <td>2013-07-02 11:02:52+05:30</td>\n",
       "      <td>1372743172</td>\n",
       "      <td>0.928</td>\n",
       "      <td>222.58</td>\n",
       "      <td>203.872</td>\n",
       "      <td>-33.581</td>\n",
       "      <td>206.619</td>\n",
       "      <td>0.986705</td>\n",
       "      <td>washing_machine_s1</td>\n",
       "    </tr>\n",
       "    <tr>\n",
       "      <th>7</th>\n",
       "      <td>2013-07-02 11:02:53+05:30</td>\n",
       "      <td>1372743173</td>\n",
       "      <td>0.952</td>\n",
       "      <td>222.65</td>\n",
       "      <td>209.279</td>\n",
       "      <td>-34.113</td>\n",
       "      <td>212.041</td>\n",
       "      <td>0.986974</td>\n",
       "      <td>washing_machine_s1</td>\n",
       "    </tr>\n",
       "  </tbody>\n",
       "</table>\n",
       "</div>"
      ],
      "text/plain": [
       "                        Time     unix_ts   Irms    Urms        P       Q  \\\n",
       "3  2013-07-02 11:02:49+05:30  1372743169  0.973  222.35  213.821 -33.383   \n",
       "4  2013-07-02 11:02:50+05:30  1372743170  0.951  222.60  209.124 -33.281   \n",
       "5  2013-07-02 11:02:51+05:30  1372743171  0.912  222.60  200.077 -33.820   \n",
       "6  2013-07-02 11:02:52+05:30  1372743172  0.928  222.58  203.872 -33.581   \n",
       "7  2013-07-02 11:02:53+05:30  1372743173  0.952  222.65  209.279 -34.113   \n",
       "\n",
       "         S  AvgPowerFactor               Label  \n",
       "3  216.412        0.988027  washing_machine_s1  \n",
       "4  211.756        0.987571  washing_machine_s1  \n",
       "5  202.915        0.986014  washing_machine_s1  \n",
       "6  206.619        0.986705  washing_machine_s1  \n",
       "7  212.041        0.986974  washing_machine_s1  "
      ]
     },
     "execution_count": 12,
     "metadata": {},
     "output_type": "execute_result"
    }
   ],
   "source": [
    "labeled_dfs[0].head()"
   ]
  },
  {
   "cell_type": "code",
   "execution_count": 10,
   "metadata": {},
   "outputs": [
    {
     "data": {
      "image/png": "[encoded data removed]",
      "text/plain": [
       "<Figure size 1000x600 with 1 Axes>"
      ]
     },
     "metadata": {},
     "output_type": "display_data"
    }
   ],
   "source": [
    "nilm_pp.plot_data_with_time(df=labeled_dfs[15], device_name=label_name) "
   ]
  },
  {
   "cell_type": "code",
   "execution_count": 11,
   "metadata": {},
   "outputs": [],
   "source": [
    "output_dir = f\"/opt/nilm-shared-data/nilm_device_detection/other_dataset/iawe/labeled_segments/washing_machine\"\n",
    "for i in range(len(labeled_dfs)):\n",
    "    labeled_dfs[i].to_excel(os.path.join(output_dir, f\"{labeled_file_names[i]}\"), index=False)"
   ]
  },
  {
   "cell_type": "markdown",
   "metadata": {},
   "source": [
    "## Unusual files inspect"
   ]
  },
  {
   "cell_type": "code",
   "execution_count": 13,
   "metadata": {},
   "outputs": [
    {
     "name": "stdout",
     "output_type": "stream",
     "text": [
      "3\n"
     ]
    }
   ],
   "source": [
    "print(len(unusual_dfs))"
   ]
  },
  {
   "cell_type": "code",
   "execution_count": 14,
   "metadata": {},
   "outputs": [],
   "source": [
    "output_dir = f\"/opt/nilm-shared-data/nilm_device_detection/other_dataset/iawe/need_labeled/washing_machine\"\n",
    "for i in range(len(unusual_dfs)):\n",
    "    unusual_dfs[i].to_excel(os.path.join(output_dir, f\"{unusual_file_names[i]}\"), index=False)"
   ]
  },
  {
   "cell_type": "code",
   "execution_count": 15,
   "metadata": {},
   "outputs": [
    {
     "name": "stdout",
     "output_type": "stream",
     "text": [
      "1231\n"
     ]
    }
   ],
   "source": [
    "print(len(unusual_dfs[0]))"
   ]
  }
 ],
 "metadata": {
  "kernelspec": {
   "display_name": "nilmtk-env",
   "language": "python",
   "name": "python3"
  },
  "language_info": {
   "codemirror_mode": {
    "name": "ipython",
    "version": 3
   },
   "file_extension": ".py",
   "mimetype": "text/x-python",
   "name": "python",
   "nbconvert_exporter": "python",
   "pygments_lexer": "ipython3",
   "version": "3.12.1"
  }
 },
 "nbformat": 4,
 "nbformat_minor": 2
}
