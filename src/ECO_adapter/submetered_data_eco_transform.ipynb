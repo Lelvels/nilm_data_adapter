{
 "cells": [
  {
   "cell_type": "code",
   "execution_count": 1,
   "metadata": {},
   "outputs": [],
   "source": [
    "import pandas as pd\n",
    "import numpy as np\n",
    "import scipy.io\n",
    "import matplotlib.pyplot as plt\n",
    "import os as os"
   ]
  },
  {
   "cell_type": "code",
   "execution_count": 2,
   "metadata": {},
   "outputs": [],
   "source": [
    "def load_aggregated_data(aggregated_path):\n",
    "    mat_data = scipy.io.loadmat(aggregated_path)\n",
    "    appliance_id = list(mat_data.keys())[3]\n",
    "    structured_array = mat_data[appliance_id]\n",
    "    structured_array = np.array(structured_array)\n",
    "    # Print the DataFrame\n",
    "    real_power = structured_array[0][0][0]\n",
    "    real_power = real_power.reshape(real_power.shape[0], )\n",
    "    # Create a plot\n",
    "    plt.plot(real_power)\n",
    "\n",
    "    # Add title and labels\n",
    "    plt.title('Aggregated power')\n",
    "    plt.xlabel('Index')\n",
    "    plt.ylabel('Value')\n",
    "\n",
    "    # Show the plot\n",
    "    plt.show()"
   ]
  },
  {
   "cell_type": "markdown",
   "metadata": {},
   "source": [
    "# Aggregated data"
   ]
  }
 ],
 "metadata": {
  "kernelspec": {
   "display_name": "mylab-nilm-env",
   "language": "python",
   "name": "python3"
  },
  "language_info": {
   "codemirror_mode": {
    "name": "ipython",
    "version": 3
   },
   "file_extension": ".py",
   "mimetype": "text/x-python",
   "name": "python",
   "nbconvert_exporter": "python",
   "pygments_lexer": "ipython3",
   "version": "3.12.1"
  }
 },
 "nbformat": 4,
 "nbformat_minor": 2
}
