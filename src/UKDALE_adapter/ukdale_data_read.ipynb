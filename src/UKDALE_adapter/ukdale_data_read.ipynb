{
 "cells": [
  {
   "cell_type": "code",
   "execution_count": 4,
   "metadata": {},
   "outputs": [
    {
     "name": "stdout",
     "output_type": "stream",
     "text": [
      "plotting energy bar...\n"
     ]
    }
   ],
   "source": [
    "from __future__ import print_function, division\n",
    "from nilmtk import DataSet\n",
    "from os.path import join\n",
    "from pylab import rcParams\n",
    "\n",
    "print(\"plotting energy bar...\")\n",
    "\n",
    "dataset = DataSet(\"../../data/UKDALE_dataset/ukdale.h5\")\n",
    "dataset.set_window(\"2013-04-01\", \"2013-06-01\")"
   ]
  },
  {
   "cell_type": "code",
   "execution_count": 5,
   "metadata": {},
   "outputs": [
    {
     "data": {
      "text/plain": [
       "OrderedDict([(1, Building(instance=1, dataset='UK-DALE')),\n",
       "             (2, Building(instance=2, dataset='UK-DALE')),\n",
       "             (3, Building(instance=3, dataset='UK-DALE')),\n",
       "             (4, Building(instance=4, dataset='UK-DALE')),\n",
       "             (5, Building(instance=5, dataset='UK-DALE'))])"
      ]
     },
     "execution_count": 5,
     "metadata": {},
     "output_type": "execute_result"
    }
   ],
   "source": [
    "dataset.buildings"
   ]
  },
  {
   "cell_type": "code",
   "execution_count": null,
   "metadata": {},
   "outputs": [],
   "source": [
    "for building in dataset.buildings.elec\n",
    "    for device in building.meters:\n",
    "        print(f\"Meter: {len(device}, columns: {device.available_columns()}\")\n",
    "        df = next(device.load())\n",
    "        print(df.columns)"
   ]
  },
  {
   "cell_type": "code",
   "execution_count": 1,
   "metadata": {},
   "outputs": [
    {
     "ename": "NameError",
     "evalue": "name 'dataset' is not defined",
     "output_type": "error",
     "traceback": [
      "\u001b[0;31m---------------------------------------------------------------------------\u001b[0m",
      "\u001b[0;31mNameError\u001b[0m                                 Traceback (most recent call last)",
      "Cell \u001b[0;32mIn[1], line 1\u001b[0m\n\u001b[0;32m----> 1\u001b[0m building \u001b[38;5;241m=\u001b[39m \u001b[43mdataset\u001b[49m\u001b[38;5;241m.\u001b[39mbuildings[\u001b[38;5;241m5\u001b[39m]\u001b[38;5;241m.\u001b[39melec\n\u001b[1;32m      2\u001b[0m \u001b[38;5;28;01mfor\u001b[39;00m device \u001b[38;5;129;01min\u001b[39;00m building\u001b[38;5;241m.\u001b[39mmeters:\n\u001b[1;32m      3\u001b[0m     \u001b[38;5;28mprint\u001b[39m(\u001b[38;5;124mf\u001b[39m\u001b[38;5;124m\"\u001b[39m\u001b[38;5;124mMeter: \u001b[39m\u001b[38;5;132;01m{\u001b[39;00m\u001b[38;5;28mlen\u001b[39m(device)\u001b[38;5;132;01m}\u001b[39;00m\u001b[38;5;124m, columns: \u001b[39m\u001b[38;5;132;01m{\u001b[39;00mdevice\u001b[38;5;241m.\u001b[39mavailable_columns()\u001b[38;5;132;01m}\u001b[39;00m\u001b[38;5;124m\"\u001b[39m)\n",
      "\u001b[0;31mNameError\u001b[0m: name 'dataset' is not defined"
     ]
    }
   ],
   "source": [
    "building = dataset.buildings[5].elec\n",
    "for device in building.meters:\n",
    "    print(f\"Meter: {device}, columns: {device.available_columns()}\")\n",
    "    df = next(device.load())\n",
    "    print(df.columns)"
   ]
  }
 ],
 "metadata": {
  "kernelspec": {
   "display_name": "nilmtk-env",
   "language": "python",
   "name": "python3"
  },
  "language_info": {
   "codemirror_mode": {
    "name": "ipython",
    "version": 3
   },
   "file_extension": ".py",
   "mimetype": "text/x-python",
   "name": "python",
   "nbconvert_exporter": "python",
   "pygments_lexer": "ipython3",
   "version": "3.8.6"
  }
 },
 "nbformat": 4,
 "nbformat_minor": 2
}
