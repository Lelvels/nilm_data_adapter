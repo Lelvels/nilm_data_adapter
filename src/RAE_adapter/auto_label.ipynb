{
 "cells": [
  {
   "cell_type": "code",
   "execution_count": 1,
   "metadata": {},
   "outputs": [],
   "source": [
    "import pandas as pd\n",
    "import numpy as np\n",
    "import matplotlib.pyplot as plt\n",
    "import os\n",
    "import tqdm\n",
    "import shutil"
   ]
  },
  {
   "cell_type": "code",
   "execution_count": 2,
   "metadata": {},
   "outputs": [],
   "source": [
    "def plot_data(input_df, which_plot: dict):\n",
    "    plt.figure(figsize=(10, 6))\n",
    "    if(which_plot[\"V\"] == True):\n",
    "        plt.plot(input_df['unix_ts'], input_df['V'], label='Voltage (V)')\n",
    "    if(which_plot[\"I\"] == True):\n",
    "        plt.plot(input_df['unix_ts'], input_df['I'], label='Current (I)')\n",
    "    if(which_plot[\"P\"] == True):\n",
    "        plt.plot(input_df['unix_ts'], input_df['P'], label='Power (P)')\n",
    "    if(which_plot[\"Q\"] == True):\n",
    "        plt.plot(input_df['unix_ts'], input_df['Q'], label='Reactive Power (Q)')\n",
    "    if(which_plot[\"S\"] == True):\n",
    "        plt.plot(input_df['unix_ts'], input_df['S'], label='Apparent Power (S)')\n",
    "\n",
    "    plt.xlabel('Unix Timestamp')\n",
    "    plt.ylabel('Values')\n",
    "    plt.title(f'{which_plot[\"name\"]}')\n",
    "    plt.legend()\n",
    "    plt.grid(True)\n",
    "    plt.show()\n",
    "    \n",
    "def sort_filenames(filenames):\n",
    "    \"\"\"\n",
    "    Sorts a list of filenames in ascending order based on the numeric part of the filename.\n",
    "\n",
    "    Args:\n",
    "        filenames (list): A list of filenames (e.g., [\"fridge_1568.xlsx\", \"fridge_2773.xlsx\", ...])\n",
    "\n",
    "    Returns:\n",
    "        list: Sorted list of filenames\n",
    "    \"\"\"\n",
    "    def extract_numeric_part(filename):\n",
    "        # Extract the numeric part from the filename (e.g., \"fridge_1568.xlsx\" -> 1568)\n",
    "        return int(filename.split(\"_\")[4].split(\".\")[0])\n",
    "\n",
    "    # Sort the filenames based on the numeric part\n",
    "    sorted_filenames = sorted(filenames, key=extract_numeric_part)\n",
    "\n",
    "    return sorted_filenames"
   ]
  },
  {
   "cell_type": "code",
   "execution_count": 3,
   "metadata": {},
   "outputs": [
    {
     "data": {
      "text/plain": [
       "'0'"
      ]
     },
     "execution_count": 3,
     "metadata": {},
     "output_type": "execute_result"
    }
   ],
   "source": [
    "\"lights_and_plugs_16_0.xlsx\".split(\"_\")[4].split(\".\")[0]"
   ]
  },
  {
   "cell_type": "markdown",
   "metadata": {},
   "source": [
    "# Fridge auto label"
   ]
  },
  {
   "cell_type": "markdown",
   "metadata": {},
   "source": [
    "# Unusual data threshold\n",
    "1. LP20\n",
    "- State 1: < 45W\n",
    "- State 2: > 45W\n",
    "2. LP3\n",
    "- State 1: < 45W\n",
    "- State 2: > 45W\n",
    "3. LP16: \n",
    "- State 1: < 25W \n",
    "- State 2: > 25W\n",
    "4. Fridge\n",
    "- State 1: < 400W (~250W)\n",
    "- State 2: > 400 W (~460W)\n",
    "5. Clothes dryer: labeled by hand and remove transient.\n",
    "- State 1: < 4000 W\n",
    "- State 2: > 4000 W (~200W)\n",
    "6. Oven: labeled by hand and remove transient.\n",
    "- State 1: < 200W \n",
    "- State 2: 200 - 3000W\n",
    "- State 3: > 3000W"
   ]
  },
  {
   "cell_type": "code",
   "execution_count": 5,
   "metadata": {},
   "outputs": [
    {
     "name": "stderr",
     "output_type": "stream",
     "text": [
      "100%|██████████| 372/372 [00:26<00:00, 14.00it/s]\n"
     ]
    }
   ],
   "source": [
    "# assign directory\n",
    "directory = '/opt/nilm-shared-data/nilm_device_detection/other_dataset/RAE_dataset/transform_data/running_segments/lp20'\n",
    "# out_dir = \"../../data/RAE_dataset/transform_data/labeled_data/lp16\"\n",
    "unusual_files = []\n",
    "# iterate over files in\n",
    "# that directory\n",
    "for filename in tqdm.tqdm(iterable=sort_filenames(os.listdir(directory))):\n",
    "    fp = os.path.join(directory, filename)\n",
    "    if os.path.isfile(fp):\n",
    "        unlabeled_df = pd.read_excel(fp)\n",
    "        # Drop 2 first rows, then the last row\n",
    "        drop_idx = [0, 1, 2, len(unlabeled_df)-1, len(unlabeled_df)-2]\n",
    "        labeled_df = unlabeled_df.drop(drop_idx)\n",
    "        labeled_df.drop([labeled_df.columns[0], labeled_df.columns[1]], axis=1, inplace=True)\n",
    "        power_np = labeled_df[\"P\"].to_numpy()\n",
    "        labeled_df[\"label\"] = \"lp16_s1\"\n",
    "        unexpected_values = power_np[power_np > 45]\n",
    "        if len(unexpected_values) > 0:\n",
    "            unusual_files.append(filename)\n",
    "        # else:\n",
    "            # labeled_df.to_excel(os.path.join(out_dir, filename), index=False)"
   ]
  },
  {
   "cell_type": "code",
   "execution_count": 6,
   "metadata": {},
   "outputs": [
    {
     "name": "stdout",
     "output_type": "stream",
     "text": [
      "16\n"
     ]
    }
   ],
   "source": [
    "print(len(unusual_files))"
   ]
  },
  {
   "cell_type": "code",
   "execution_count": 7,
   "metadata": {},
   "outputs": [
    {
     "data": {
      "text/plain": [
       "['lights_and_plugs_20_74.xlsx',\n",
       " 'lights_and_plugs_20_127.xlsx',\n",
       " 'lights_and_plugs_20_155.xlsx',\n",
       " 'lights_and_plugs_20_157.xlsx',\n",
       " 'lights_and_plugs_20_185.xlsx',\n",
       " 'lights_and_plugs_20_187.xlsx',\n",
       " 'lights_and_plugs_20_190.xlsx',\n",
       " 'lights_and_plugs_20_218.xlsx',\n",
       " 'lights_and_plugs_20_230.xlsx',\n",
       " 'lights_and_plugs_20_231.xlsx',\n",
       " 'lights_and_plugs_20_299.xlsx',\n",
       " 'lights_and_plugs_20_306.xlsx',\n",
       " 'lights_and_plugs_20_318.xlsx',\n",
       " 'lights_and_plugs_20_347.xlsx',\n",
       " 'lights_and_plugs_20_349.xlsx',\n",
       " 'lights_and_plugs_20_353.xlsx']"
      ]
     },
     "execution_count": 7,
     "metadata": {},
     "output_type": "execute_result"
    }
   ],
   "source": [
    "unusual_files"
   ]
  },
  {
   "cell_type": "code",
   "execution_count": null,
   "metadata": {},
   "outputs": [],
   "source": [
    "unusual_files"
   ]
  },
  {
   "cell_type": "code",
   "execution_count": 16,
   "metadata": {},
   "outputs": [
    {
     "name": "stdout",
     "output_type": "stream",
     "text": [
      "Index(['unix_ts', 'Irms', 'pf', 'P', 'Q', 'S', 'label'], dtype='object')\n"
     ]
    },
    {
     "data": {
      "text/html": [
       "<div>\n",
       "<style scoped>\n",
       "    .dataframe tbody tr th:only-of-type {\n",
       "        vertical-align: middle;\n",
       "    }\n",
       "\n",
       "    .dataframe tbody tr th {\n",
       "        vertical-align: top;\n",
       "    }\n",
       "\n",
       "    .dataframe thead th {\n",
       "        text-align: right;\n",
       "    }\n",
       "</style>\n",
       "<table border=\"1\" class=\"dataframe\">\n",
       "  <thead>\n",
       "    <tr style=\"text-align: right;\">\n",
       "      <th></th>\n",
       "      <th>unix_ts</th>\n",
       "      <th>Irms</th>\n",
       "      <th>pf</th>\n",
       "      <th>P</th>\n",
       "      <th>Q</th>\n",
       "      <th>S</th>\n",
       "      <th>label</th>\n",
       "    </tr>\n",
       "  </thead>\n",
       "  <tbody>\n",
       "    <tr>\n",
       "      <th>3</th>\n",
       "      <td>1510385787</td>\n",
       "      <td>0.3</td>\n",
       "      <td>0.5</td>\n",
       "      <td>18</td>\n",
       "      <td>22</td>\n",
       "      <td>36</td>\n",
       "      <td>lp16_s1</td>\n",
       "    </tr>\n",
       "    <tr>\n",
       "      <th>4</th>\n",
       "      <td>1510385788</td>\n",
       "      <td>0.3</td>\n",
       "      <td>0.5</td>\n",
       "      <td>18</td>\n",
       "      <td>22</td>\n",
       "      <td>36</td>\n",
       "      <td>lp16_s1</td>\n",
       "    </tr>\n",
       "    <tr>\n",
       "      <th>5</th>\n",
       "      <td>1510385789</td>\n",
       "      <td>0.3</td>\n",
       "      <td>0.5</td>\n",
       "      <td>18</td>\n",
       "      <td>22</td>\n",
       "      <td>36</td>\n",
       "      <td>lp16_s1</td>\n",
       "    </tr>\n",
       "    <tr>\n",
       "      <th>6</th>\n",
       "      <td>1510385790</td>\n",
       "      <td>0.3</td>\n",
       "      <td>0.5</td>\n",
       "      <td>18</td>\n",
       "      <td>22</td>\n",
       "      <td>36</td>\n",
       "      <td>lp16_s1</td>\n",
       "    </tr>\n",
       "    <tr>\n",
       "      <th>7</th>\n",
       "      <td>1510385791</td>\n",
       "      <td>0.3</td>\n",
       "      <td>0.5</td>\n",
       "      <td>18</td>\n",
       "      <td>22</td>\n",
       "      <td>36</td>\n",
       "      <td>lp16_s1</td>\n",
       "    </tr>\n",
       "  </tbody>\n",
       "</table>\n",
       "</div>"
      ],
      "text/plain": [
       "      unix_ts  Irms   pf   P   Q   S    label\n",
       "3  1510385787   0.3  0.5  18  22  36  lp16_s1\n",
       "4  1510385788   0.3  0.5  18  22  36  lp16_s1\n",
       "5  1510385789   0.3  0.5  18  22  36  lp16_s1\n",
       "6  1510385790   0.3  0.5  18  22  36  lp16_s1\n",
       "7  1510385791   0.3  0.5  18  22  36  lp16_s1"
      ]
     },
     "execution_count": 16,
     "metadata": {},
     "output_type": "execute_result"
    }
   ],
   "source": [
    "print(labeled_df.columns)\n",
    "labeled_df.head()"
   ]
  },
  {
   "cell_type": "code",
   "execution_count": 17,
   "metadata": {},
   "outputs": [
    {
     "name": "stdout",
     "output_type": "stream",
     "text": [
      "2\n"
     ]
    }
   ],
   "source": [
    "print(len(unusual_files))"
   ]
  },
  {
   "cell_type": "code",
   "execution_count": 21,
   "metadata": {},
   "outputs": [
    {
     "name": "stderr",
     "output_type": "stream",
     "text": [
      "100%|██████████| 2/2 [00:00<00:00,  3.08it/s]\n"
     ]
    }
   ],
   "source": [
    "for unusual_file in tqdm.tqdm(unusual_files):\n",
    "    src_file = os.path.join(directory, unusual_file)\n",
    "    des_file = os.path.join(\"/home/mrcong/Code/mylab-nilm-files/data_adapter/data/RAE_dataset/transform_data/labeled_data/lp16_need_label\", unusual_file)\n",
    "    unlabeled_df = pd.read_excel(src_file)\n",
    "    # Drop 2 first rows, then the last row\n",
    "    drop_idx = [0, 1, 2, len(unlabeled_df)-1, len(unlabeled_df)-2]\n",
    "    labeled_df = unlabeled_df.drop(drop_idx)\n",
    "    # Drop useless columns\n",
    "    labeled_df.drop([labeled_df.columns[0], labeled_df.columns[1]], axis=1, inplace=True)\n",
    "    labeled_df[\"label\"] = \"lp16_s\"\n",
    "    labeled_df.to_excel(des_file, index=False)"
   ]
  }
 ],
 "metadata": {
  "kernelspec": {
   "display_name": "mylab-nilm-env",
   "language": "python",
   "name": "python3"
  },
  "language_info": {
   "codemirror_mode": {
    "name": "ipython",
    "version": 3
   },
   "file_extension": ".py",
   "mimetype": "text/x-python",
   "name": "python",
   "nbconvert_exporter": "python",
   "pygments_lexer": "ipython3",
   "version": "3.12.1"
  }
 },
 "nbformat": 4,
 "nbformat_minor": 2
}
