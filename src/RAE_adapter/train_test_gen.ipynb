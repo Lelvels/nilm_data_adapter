{
 "cells": [
  {
   "cell_type": "code",
   "execution_count": 6,
   "metadata": {},
   "outputs": [],
   "source": [
    "import pandas as pd\n",
    "import numpy as np\n",
    "import tqdm \n",
    "import os\n",
    "from sklearn.model_selection import train_test_split"
   ]
  },
  {
   "cell_type": "code",
   "execution_count": 7,
   "metadata": {},
   "outputs": [],
   "source": [
    "def count_labels(labels):\n",
    "    unique_labels, counts = np.unique(labels, return_counts=True)\n",
    "    label_counts = dict(zip(unique_labels, counts))\n",
    "    return label_counts"
   ]
  },
  {
   "cell_type": "markdown",
   "metadata": {},
   "source": [
    "# Train test data split"
   ]
  },
  {
   "cell_type": "code",
   "execution_count": 8,
   "metadata": {},
   "outputs": [
    {
     "name": "stderr",
     "output_type": "stream",
     "text": [
      "Working on clothes_dryer:   0%|          | 0/44 [00:00<?, ?it/s]"
     ]
    },
    {
     "name": "stderr",
     "output_type": "stream",
     "text": [
      "Working on clothes_dryer: 100%|██████████| 44/44 [00:02<00:00, 18.87it/s]\n",
      "Working on fridge: 100%|██████████| 3144/3144 [01:09<00:00, 45.34it/s]\n",
      "Working on lp3: 100%|██████████| 70/70 [00:08<00:00,  7.96it/s]\n",
      "Working on lp16: 100%|██████████| 298/298 [00:19<00:00, 15.25it/s]\n",
      "Working on lp20: 100%|██████████| 372/372 [00:21<00:00, 17.32it/s]\n",
      "Working on oven: 100%|██████████| 6/6 [00:00<00:00,  8.25it/s]\n"
     ]
    }
   ],
   "source": [
    "# Define the base directory\n",
    "base_dir = \"/opt/nilm-shared-data/nilm_device_detection/other_dataset/RAE_dataset/transform_data/labeled_data\"\n",
    "\n",
    "# Define the subdirectories\n",
    "subdirectories = [\"clothes_dryer\", \"fridge\", \"lp3\", \"lp16\", \"lp20\", \"oven\"]\n",
    "\n",
    "# Initialize an empty list to store dataframes\n",
    "all_dataframes = []\n",
    "\n",
    "# Iterate through each subdirectory\n",
    "for subdir in subdirectories:\n",
    "    subdir_path = os.path.join(base_dir, subdir)\n",
    "    \n",
    "    # Get a list of all excel files in the subdirectory\n",
    "    excel_files = [file for file in os.listdir(subdir_path) if file.endswith(\".xlsx\")]\n",
    "    \n",
    "    # Iterate through each excel file\n",
    "    for excel_file in tqdm.tqdm(excel_files, desc=f\"Working on {subdir}\"):\n",
    "        file_path = os.path.join(subdir_path, excel_file)\n",
    "        \n",
    "        # Read the excel file into a pandas dataframe\n",
    "        df = pd.read_excel(file_path)\n",
    "        df = df[[\"unix_ts\", \"Irms\", \"pf\", \"P\", \"Q\", \"S\", \"label\"]]\n",
    "        df = df.rename(columns={\n",
    "            \"pf\": \"AvgPowerFactor\",\n",
    "            \"label\": \"Label\"\n",
    "        })\n",
    "        \n",
    "        # Append the dataframe to the list\n",
    "        all_dataframes.append(df)"
   ]
  },
  {
   "cell_type": "code",
   "execution_count": 11,
   "metadata": {},
   "outputs": [
    {
     "name": "stdout",
     "output_type": "stream",
     "text": [
      "(4204963, 7)\n"
     ]
    },
    {
     "data": {
      "text/html": [
       "<div>\n",
       "<style scoped>\n",
       "    .dataframe tbody tr th:only-of-type {\n",
       "        vertical-align: middle;\n",
       "    }\n",
       "\n",
       "    .dataframe tbody tr th {\n",
       "        vertical-align: top;\n",
       "    }\n",
       "\n",
       "    .dataframe thead th {\n",
       "        text-align: right;\n",
       "    }\n",
       "</style>\n",
       "<table border=\"1\" class=\"dataframe\">\n",
       "  <thead>\n",
       "    <tr style=\"text-align: right;\">\n",
       "      <th></th>\n",
       "      <th>unix_ts</th>\n",
       "      <th>Irms</th>\n",
       "      <th>AvgPowerFactor</th>\n",
       "      <th>P</th>\n",
       "      <th>Q</th>\n",
       "      <th>S</th>\n",
       "      <th>Label</th>\n",
       "    </tr>\n",
       "  </thead>\n",
       "  <tbody>\n",
       "    <tr>\n",
       "      <th>0</th>\n",
       "      <td>1460681086</td>\n",
       "      <td>41.4</td>\n",
       "      <td>0.995318</td>\n",
       "      <td>4889</td>\n",
       "      <td>372</td>\n",
       "      <td>4912</td>\n",
       "      <td>clothes_dryer_s2</td>\n",
       "    </tr>\n",
       "    <tr>\n",
       "      <th>1</th>\n",
       "      <td>1460681087</td>\n",
       "      <td>41.2</td>\n",
       "      <td>0.995694</td>\n",
       "      <td>4856</td>\n",
       "      <td>372</td>\n",
       "      <td>4877</td>\n",
       "      <td>clothes_dryer_s2</td>\n",
       "    </tr>\n",
       "    <tr>\n",
       "      <th>2</th>\n",
       "      <td>1460681088</td>\n",
       "      <td>41.0</td>\n",
       "      <td>0.995256</td>\n",
       "      <td>4825</td>\n",
       "      <td>373</td>\n",
       "      <td>4848</td>\n",
       "      <td>clothes_dryer_s2</td>\n",
       "    </tr>\n",
       "    <tr>\n",
       "      <th>3</th>\n",
       "      <td>1460681089</td>\n",
       "      <td>40.8</td>\n",
       "      <td>0.994827</td>\n",
       "      <td>4808</td>\n",
       "      <td>372</td>\n",
       "      <td>4833</td>\n",
       "      <td>clothes_dryer_s2</td>\n",
       "    </tr>\n",
       "    <tr>\n",
       "      <th>4</th>\n",
       "      <td>1460681090</td>\n",
       "      <td>40.5</td>\n",
       "      <td>0.994184</td>\n",
       "      <td>4786</td>\n",
       "      <td>383</td>\n",
       "      <td>4814</td>\n",
       "      <td>clothes_dryer_s2</td>\n",
       "    </tr>\n",
       "  </tbody>\n",
       "</table>\n",
       "</div>"
      ],
      "text/plain": [
       "      unix_ts  Irms  AvgPowerFactor     P    Q     S             Label\n",
       "0  1460681086  41.4        0.995318  4889  372  4912  clothes_dryer_s2\n",
       "1  1460681087  41.2        0.995694  4856  372  4877  clothes_dryer_s2\n",
       "2  1460681088  41.0        0.995256  4825  373  4848  clothes_dryer_s2\n",
       "3  1460681089  40.8        0.994827  4808  372  4833  clothes_dryer_s2\n",
       "4  1460681090  40.5        0.994184  4786  383  4814  clothes_dryer_s2"
      ]
     },
     "execution_count": 11,
     "metadata": {},
     "output_type": "execute_result"
    }
   ],
   "source": [
    "big_dataframe = pd.concat(all_dataframes)\n",
    "print(big_dataframe.shape)\n",
    "big_dataframe.head()"
   ]
  },
  {
   "cell_type": "code",
   "execution_count": 12,
   "metadata": {},
   "outputs": [],
   "source": [
    "original_df = big_dataframe.copy()"
   ]
  },
  {
   "cell_type": "code",
   "execution_count": 20,
   "metadata": {},
   "outputs": [
    {
     "data": {
      "text/plain": [
       "{'clothes_dryer_s1': 33815,\n",
       " 'clothes_dryer_s2': 60754,\n",
       " 'fridge_s1': 2254224,\n",
       " 'fridge_s2': 22230,\n",
       " 'kitchen_oven_s1': 18089,\n",
       " 'kitchen_oven_s2': 5958,\n",
       " 'kitchen_oven_s3': 3047,\n",
       " 'lp16_s1': 704397,\n",
       " 'lp20_s1': 765575,\n",
       " 'lp20_s2': 10194,\n",
       " 'lp3_s1': 303787,\n",
       " 'lp3_s2': 22893}"
      ]
     },
     "execution_count": 20,
     "metadata": {},
     "output_type": "execute_result"
    }
   ],
   "source": [
    "#Label distribution of the data\n",
    "count_labels(big_dataframe[\"Label\"])"
   ]
  },
  {
   "cell_type": "code",
   "execution_count": null,
   "metadata": {},
   "outputs": [],
   "source": [
    "# Change lp20_s1 and lp3_s1 -> lp320_s1\n",
    "# big_dataframe_change_label = big_dataframe.copy()\n",
    "# big_dataframe_change_label.loc[big_dataframe_change_label[\"Label\"].isin([\"lp3_s1\", \"lp20_s1\"]), \"Label\"] = \"lp320_s1\"\n",
    "# count_labels(big_dataframe_change_label[\"Label\"])"
   ]
  },
  {
   "cell_type": "code",
   "execution_count": null,
   "metadata": {},
   "outputs": [],
   "source": [
    "#Drop lp3\n",
    "# df_rm_lp3 = big_dataframe[big_dataframe[\"Label\"] != \"lp3_s1\"]\n",
    "# df_rm_lp3 = df_rm_lp3[df_rm_lp3[\"Label\"] != \"lp3_s2\"]\n",
    "# count_labels(df_rm_lp3[\"Label\"])"
   ]
  },
  {
   "cell_type": "code",
   "execution_count": 21,
   "metadata": {},
   "outputs": [
    {
     "data": {
      "text/plain": [
       "{'clothes_dryer_s1': 33815,\n",
       " 'clothes_dryer_s2': 60754,\n",
       " 'fridge_s1': 2254224,\n",
       " 'fridge_s2': 22230,\n",
       " 'kitchen_oven_s1': 18089,\n",
       " 'kitchen_oven_s2': 5958,\n",
       " 'kitchen_oven_s3': 3047,\n",
       " 'lp16_s1': 704397,\n",
       " 'lp3_s1': 303787,\n",
       " 'lp3_s2': 22893}"
      ]
     },
     "execution_count": 21,
     "metadata": {},
     "output_type": "execute_result"
    }
   ],
   "source": [
    "#Drop lp3\n",
    "df_rm_lp20 = big_dataframe[big_dataframe[\"Label\"] != \"lp20_s1\"]\n",
    "df_rm_lp20 = df_rm_lp20[df_rm_lp20[\"Label\"] != \"lp20_s2\"]\n",
    "count_labels(df_rm_lp20[\"Label\"])"
   ]
  },
  {
   "cell_type": "markdown",
   "metadata": {},
   "source": [
    "# Save to file"
   ]
  },
  {
   "cell_type": "code",
   "execution_count": 22,
   "metadata": {},
   "outputs": [],
   "source": [
    "train_df, temp_df, y_train, y_temp = train_test_split(df_rm_lp20, df_rm_lp20[\"Label\"], test_size=0.3, random_state=42)\n",
    "test_df, val_df, y_test, y_val = train_test_split(temp_df, y_temp, test_size=0.5, random_state=42)"
   ]
  },
  {
   "cell_type": "code",
   "execution_count": 23,
   "metadata": {},
   "outputs": [
    {
     "name": "stdout",
     "output_type": "stream",
     "text": [
      "Train dataset: 2400435\n",
      "{'clothes_dryer_s1': 23849, 'clothes_dryer_s2': 42667, 'fridge_s1': 1578031, 'fridge_s2': 15477, 'kitchen_oven_s1': 12756, 'kitchen_oven_s2': 4161, 'kitchen_oven_s3': 2130, 'lp16_s1': 492441, 'lp3_s1': 212872, 'lp3_s2': 16051}\n",
      "Test dataset: 514379\n",
      "{'clothes_dryer_s1': 4961, 'clothes_dryer_s2': 8893, 'fridge_s1': 337812, 'fridge_s2': 3329, 'kitchen_oven_s1': 2685, 'kitchen_oven_s2': 909, 'kitchen_oven_s3': 485, 'lp16_s1': 106122, 'lp3_s1': 45696, 'lp3_s2': 3487}\n",
      "Validation dataset: 514380\n",
      "{'clothes_dryer_s1': 5005, 'clothes_dryer_s2': 9194, 'fridge_s1': 338381, 'fridge_s2': 3424, 'kitchen_oven_s1': 2648, 'kitchen_oven_s2': 888, 'kitchen_oven_s3': 432, 'lp16_s1': 105834, 'lp3_s1': 45219, 'lp3_s2': 3355}\n"
     ]
    }
   ],
   "source": [
    "print(f\"Train dataset: {len(train_df)}\")\n",
    "print(count_labels(train_df[\"Label\"]))\n",
    "print(f\"Test dataset: {len(test_df)}\")\n",
    "print(count_labels(test_df[\"Label\"]))\n",
    "print(f\"Validation dataset: {len(val_df)}\")\n",
    "print(count_labels(val_df[\"Label\"]))"
   ]
  },
  {
   "cell_type": "code",
   "execution_count": 24,
   "metadata": {},
   "outputs": [],
   "source": [
    "base_dir = \"/opt/nilm-shared-data/nilm_device_detection/other_dataset/RAE_dataset/train_test_data/rm_lp20\"\n",
    "train_df.to_csv(os.path.join(base_dir, \"RAE_train.csv\"))\n",
    "test_df.to_csv(os.path.join(base_dir, \"RAE_test.csv\"))\n",
    "val_df.to_csv(os.path.join(base_dir, \"RAE_val.csv\"))"
   ]
  },
  {
   "cell_type": "markdown",
   "metadata": {},
   "source": [
    "# Create segment series data"
   ]
  },
  {
   "cell_type": "code",
   "execution_count": null,
   "metadata": {},
   "outputs": [],
   "source": [
    "random_files = ['lights_plugs_3_48.xlsx' 'lights_plugs_3_10.xlsx'\n",
    " 'lights_and_plugs_20_349.xlsx' 'lights_and_plugs_20_157.xlsx'\n",
    " 'lights_and_plugs_20_299.xlsx' 'lights_and_plugs_20_347.xlsx'\n",
    " 'lights_and_plugs_20_353.xlsx' 'lights_and_plugs_20_231.xlsx'\n",
    " 'lights_plugs_3_12.xlsx' 'lights_and_plugs_20_218.xlsx'\n",
    " 'lights_and_plugs_20_187.xlsx' 'lights_plugs_3_8.xlsx'\n",
    " 'lights_and_plugs_20_74.xlsx' 'lights_and_plugs_20_155.xlsx'\n",
    " 'lights_and_plugs_20_185.xlsx' 'lights_plugs_3_1.xlsx'\n",
    " 'lights_and_plugs_20_190.xlsx']"
   ]
  },
  {
   "cell_type": "code",
   "execution_count": null,
   "metadata": {},
   "outputs": [],
   "source": [
    "series_data_files = np.array(lp3_segments_files)\n",
    "series_data_files = np.concatenate((series_data_files, lp20_segments_files))\n",
    "#Shuffle the data\n",
    "np.random.seed(42)\n",
    "np.random.shuffle(series_data_files)\n",
    "#Check the files\n",
    "print(len(series_data_files))\n",
    "print(series_data_files)"
   ]
  },
  {
   "cell_type": "code",
   "execution_count": null,
   "metadata": {},
   "outputs": [],
   "source": [
    "lp3_base_dir = \"/opt/nilm-shared-data/nilm_device_detection/other_dataset/RAE_dataset/transform_data/labeled_data/lp3\"\n",
    "lp20_base_dir = \"/opt/nilm-shared-data/nilm_device_detection/other_dataset/RAE_dataset/transform_data/labeled_data/lp20\"\n",
    "\n",
    "series_test_df = None\n",
    "for series_file in series_data_files:\n",
    "    # Select data\n",
    "    if \"lights_plugs_3\" in series_file:\n",
    "        current_series_df = pd.read_excel(os.path.join(lp3_base_dir, series_file))\n",
    "    elif \"lights_and_plugs_20\" in series_file:\n",
    "        current_series_df = pd.read_excel(os.path.join(lp20_base_dir, series_file))\n",
    "    # Change the name    \n",
    "    current_series_df = current_series_df.rename(columns={\n",
    "            \"pf\": \"AvgPowerFactor\",\n",
    "            \"label\": \"Label\"\n",
    "    })\n",
    "    \n",
    "    if series_test_df is None:\n",
    "        series_test_df = current_series_df\n",
    "    else:\n",
    "        series_test_df = pd.concat([series_test_df, current_series_df])\n",
    "        \n",
    "print(len(series_test_df))\n",
    "series_test_df.head()"
   ]
  },
  {
   "cell_type": "code",
   "execution_count": null,
   "metadata": {},
   "outputs": [],
   "source": [
    "series_test_df.to_csv(\"/opt/nilm-shared-data/nilm_device_detection/other_dataset/RAE_dataset/train_test_data/segments_test/series_data/lp_3_20_series_data_1.csv\")"
   ]
  }
 ],
 "metadata": {
  "kernelspec": {
   "display_name": "mylab-nilm-env",
   "language": "python",
   "name": "python3"
  },
  "language_info": {
   "codemirror_mode": {
    "name": "ipython",
    "version": 3
   },
   "file_extension": ".py",
   "mimetype": "text/x-python",
   "name": "python",
   "nbconvert_exporter": "python",
   "pygments_lexer": "ipython3",
   "version": "3.12.1"
  }
 },
 "nbformat": 4,
 "nbformat_minor": 2
}
