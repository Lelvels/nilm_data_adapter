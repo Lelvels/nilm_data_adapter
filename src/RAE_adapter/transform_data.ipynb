{
 "cells": [
  {
   "cell_type": "code",
   "execution_count": 2,
   "metadata": {},
   "outputs": [],
   "source": [
    "import polars as pl\n",
    "import numpy as np\n",
    "import pandas as pd\n",
    "import os"
   ]
  },
  {
   "cell_type": "markdown",
   "metadata": {},
   "source": [
    "# House 1"
   ]
  },
  {
   "cell_type": "markdown",
   "metadata": {},
   "source": [
    "## Read all data"
   ]
  },
  {
   "cell_type": "code",
   "execution_count": 3,
   "metadata": {},
   "outputs": [
    {
     "data": {
      "text/plain": [
       "145637040"
      ]
     },
     "execution_count": 3,
     "metadata": {},
     "output_type": "execute_result"
    }
   ],
   "source": [
    "base_path = \"/opt/nilm-shared-data/nilm_device_detection/other_dataset/RAE_dataset/raw_data\"\n",
    "house1_all_data = pl.concat([pl.read_csv(f\"{base_path}/house1_subs_blk2.csv\"), \n",
    "                             pl.read_csv(f\"{base_path}/house1_subs_blk1.csv\")])\n",
    "len(house1_all_data)"
   ]
  },
  {
   "cell_type": "code",
   "execution_count": 4,
   "metadata": {},
   "outputs": [],
   "source": [
    "transform_columns = [\"unix_ts\", \"Irms\", \"pf\", \"P\", \"Q\", \"S\", \"label\"]"
   ]
  },
  {
   "cell_type": "code",
   "execution_count": 5,
   "metadata": {},
   "outputs": [],
   "source": [
    "select_columns = [\"unix_ts\", \"sub\", \"V\", \"I\", \"P\", \"Q\", \"S\"]\n",
    "house1_all_data = house1_all_data.select(select_columns)"
   ]
  },
  {
   "cell_type": "code",
   "execution_count": 6,
   "metadata": {},
   "outputs": [
    {
     "data": {
      "text/html": [
       "<div><style>\n",
       ".dataframe > thead > tr,\n",
       ".dataframe > tbody > tr {\n",
       "  text-align: right;\n",
       "  white-space: pre-wrap;\n",
       "}\n",
       "</style>\n",
       "<small>shape: (5, 7)</small><table border=\"1\" class=\"dataframe\"><thead><tr><th>unix_ts</th><th>sub</th><th>V</th><th>I</th><th>P</th><th>Q</th><th>S</th></tr><tr><td>i64</td><td>i64</td><td>f64</td><td>f64</td><td>i64</td><td>i64</td><td>i64</td></tr></thead><tbody><tr><td>1457251200</td><td>1</td><td>119.7</td><td>0.0</td><td>0</td><td>0</td><td>3</td></tr><tr><td>1457251200</td><td>2</td><td>119.1</td><td>0.0</td><td>1</td><td>0</td><td>3</td></tr><tr><td>1457251200</td><td>3</td><td>119.7</td><td>0.0</td><td>0</td><td>0</td><td>1</td></tr><tr><td>1457251200</td><td>4</td><td>119.1</td><td>0.0</td><td>1</td><td>2</td><td>3</td></tr><tr><td>1457251200</td><td>5</td><td>119.7</td><td>0.0</td><td>0</td><td>0</td><td>3</td></tr></tbody></table></div>"
      ],
      "text/plain": [
       "shape: (5, 7)\n",
       "┌────────────┬─────┬───────┬─────┬─────┬─────┬─────┐\n",
       "│ unix_ts    ┆ sub ┆ V     ┆ I   ┆ P   ┆ Q   ┆ S   │\n",
       "│ ---        ┆ --- ┆ ---   ┆ --- ┆ --- ┆ --- ┆ --- │\n",
       "│ i64        ┆ i64 ┆ f64   ┆ f64 ┆ i64 ┆ i64 ┆ i64 │\n",
       "╞════════════╪═════╪═══════╪═════╪═════╪═════╪═════╡\n",
       "│ 1457251200 ┆ 1   ┆ 119.7 ┆ 0.0 ┆ 0   ┆ 0   ┆ 3   │\n",
       "│ 1457251200 ┆ 2   ┆ 119.1 ┆ 0.0 ┆ 1   ┆ 0   ┆ 3   │\n",
       "│ 1457251200 ┆ 3   ┆ 119.7 ┆ 0.0 ┆ 0   ┆ 0   ┆ 1   │\n",
       "│ 1457251200 ┆ 4   ┆ 119.1 ┆ 0.0 ┆ 1   ┆ 2   ┆ 3   │\n",
       "│ 1457251200 ┆ 5   ┆ 119.7 ┆ 0.0 ┆ 0   ┆ 0   ┆ 3   │\n",
       "└────────────┴─────┴───────┴─────┴─────┴─────┴─────┘"
      ]
     },
     "execution_count": 6,
     "metadata": {},
     "output_type": "execute_result"
    }
   ],
   "source": [
    "house1_all_data.head()"
   ]
  },
  {
   "cell_type": "markdown",
   "metadata": {},
   "source": [
    "## Transform data"
   ]
  },
  {
   "cell_type": "markdown",
   "metadata": {},
   "source": [
    "<b>House 1 labels in house1_labels.txt file</b>\n",
    "    \"kitchen_oven\": [1,2],\n",
    "    \"kitchen_counter_plugs\": [3,4],\n",
    "    \"clothes_dryer\": [5,6],\n",
    "    \"upstairs_bedroom_AFCI_arc-fault_plugs\": [7],\n",
    "    \"kitchen_fridge\": [8],\n",
    "    \"clothes_washer\": [9],\n",
    "    \"kitchen_dishwasher\": [10],\n",
    "    \"furnace_and_hot_water_unit\": [11],\n",
    "    \"basement_plugs_and_lights\": [12],\n",
    "    \"heat_pump\": [13, 14],\n",
    "    \"garage_sub_panel\": [15,16],\n",
    "    \"upstairs_plug_and_lights\": [17,18],\n",
    "    \"basement_blue_plugs\": [19],\n",
    "    \"bathrooms\": [20],\n",
    "    \"rental_suite_sub_panel\": [21, 22],\n",
    "    \"misc_plugs\": [23],\n",
    "    \"home_office\": [24]\\"
   ]
  },
  {
   "cell_type": "code",
   "execution_count": 7,
   "metadata": {},
   "outputs": [],
   "source": [
    "meter_ids_dict = {\n",
    "    # \"kitchen_oven\": [1,2],\n",
    "    #\"kitchen_counter_plugs\": [3,4],\n",
    "    # \"clothes_dryer\": [5,6],\n",
    "    #\"upstairs_bedroom_AFCI_arc-fault_plugs\": [7],\n",
    "    # \"kitchen_fridge\": [8],\n",
    "    #\"clothes_washer\": [9],\n",
    "    #\"kitchen_dishwasher\": [10],\n",
    "    #\"furnace_and_hot_water_unit\": [11],\n",
    "    #\"basement_plugs_and_lights\": [12],\n",
    "    # \"heat_pump\": [13, 14],\n",
    "    #\"garage_sub_panel\": [15,16],\n",
    "    #\"upstairs_plug_and_lights\": [17,18],\n",
    "    #\"basement_blue_plugs\": [19],\n",
    "    #\"bathrooms\": [20],\n",
    "    #\"rental_suite_sub_panel\": [21, 22],\n",
    "    \"misc_plugs\": [23],\n",
    "    \"home_office\": [24]\n",
    "}"
   ]
  },
  {
   "cell_type": "code",
   "execution_count": 8,
   "metadata": {},
   "outputs": [
    {
     "name": "stdout",
     "output_type": "stream",
     "text": [
      "Working on key: kitchen_counter_plugs\n",
      "shape: (5, 7)\n",
      "┌────────────┬──────┬──────┬─────┬─────┬─────┬───────────────────────┐\n",
      "│ unix_ts    ┆ Irms ┆ pf   ┆ P   ┆ Q   ┆ S   ┆ label                 │\n",
      "│ ---        ┆ ---  ┆ ---  ┆ --- ┆ --- ┆ --- ┆ ---                   │\n",
      "│ i64        ┆ f64  ┆ f64  ┆ f64 ┆ f64 ┆ f64 ┆ str                   │\n",
      "╞════════════╪══════╪══════╪═════╪═════╪═════╪═══════════════════════╡\n",
      "│ 1457251200 ┆ 0.0  ┆ 0.25 ┆ 1.0 ┆ 2.0 ┆ 4.0 ┆ kitchen_counter_plugs │\n",
      "│ 1457251201 ┆ 0.0  ┆ 0.5  ┆ 2.0 ┆ 2.0 ┆ 4.0 ┆ kitchen_counter_plugs │\n",
      "│ 1457251202 ┆ 0.0  ┆ 0.5  ┆ 2.0 ┆ 2.0 ┆ 4.0 ┆ kitchen_counter_plugs │\n",
      "│ 1457251203 ┆ 0.0  ┆ 0.5  ┆ 2.0 ┆ 2.0 ┆ 4.0 ┆ kitchen_counter_plugs │\n",
      "│ 1457251204 ┆ 0.0  ┆ 0.5  ┆ 2.0 ┆ 2.0 ┆ 4.0 ┆ kitchen_counter_plugs │\n",
      "└────────────┴──────┴──────┴─────┴─────┴─────┴───────────────────────┘\n",
      "Working on key: upstairs_bedroom_AFCI_arc-fault_plugs\n",
      "shape: (5, 7)\n",
      "┌────────────┬──────┬──────────┬─────┬─────┬─────┬───────────────────────────────────┐\n",
      "│ unix_ts    ┆ Irms ┆ pf       ┆ P   ┆ Q   ┆ S   ┆ label                             │\n",
      "│ ---        ┆ ---  ┆ ---      ┆ --- ┆ --- ┆ --- ┆ ---                               │\n",
      "│ i64        ┆ f64  ┆ f64      ┆ i64 ┆ i64 ┆ i64 ┆ str                               │\n",
      "╞════════════╪══════╪══════════╪═════╪═════╪═════╪═══════════════════════════════════╡\n",
      "│ 1457251200 ┆ 0.0  ┆ 0.555556 ┆ 5   ┆ 5   ┆ 9   ┆ upstairs_bedroom_AFCI_arc-fault_… │\n",
      "│ 1457251201 ┆ 0.0  ┆ 0.666667 ┆ 6   ┆ 5   ┆ 9   ┆ upstairs_bedroom_AFCI_arc-fault_… │\n",
      "│ 1457251202 ┆ 0.0  ┆ 0.555556 ┆ 5   ┆ 5   ┆ 9   ┆ upstairs_bedroom_AFCI_arc-fault_… │\n",
      "│ 1457251203 ┆ 0.0  ┆ 0.555556 ┆ 5   ┆ 5   ┆ 9   ┆ upstairs_bedroom_AFCI_arc-fault_… │\n",
      "│ 1457251204 ┆ 0.0  ┆ 0.555556 ┆ 5   ┆ 5   ┆ 9   ┆ upstairs_bedroom_AFCI_arc-fault_… │\n",
      "└────────────┴──────┴──────────┴─────┴─────┴─────┴───────────────────────────────────┘\n",
      "Working on key: clothes_washer\n",
      "shape: (5, 7)\n",
      "┌────────────┬──────┬─────┬─────┬─────┬─────┬────────────────┐\n",
      "│ unix_ts    ┆ Irms ┆ pf  ┆ P   ┆ Q   ┆ S   ┆ label          │\n",
      "│ ---        ┆ ---  ┆ --- ┆ --- ┆ --- ┆ --- ┆ ---            │\n",
      "│ i64        ┆ f64  ┆ f64 ┆ i64 ┆ i64 ┆ i64 ┆ str            │\n",
      "╞════════════╪══════╪═════╪═════╪═════╪═════╪════════════════╡\n",
      "│ 1457251200 ┆ 0.0  ┆ 0.0 ┆ 0   ┆ 0   ┆ 1   ┆ clothes_washer │\n",
      "│ 1457251201 ┆ 0.0  ┆ 0.0 ┆ 0   ┆ 0   ┆ 1   ┆ clothes_washer │\n",
      "│ 1457251202 ┆ 0.0  ┆ 0.0 ┆ 0   ┆ 0   ┆ 1   ┆ clothes_washer │\n",
      "│ 1457251203 ┆ 0.0  ┆ 0.0 ┆ 0   ┆ 0   ┆ 1   ┆ clothes_washer │\n",
      "│ 1457251204 ┆ 0.0  ┆ 0.0 ┆ 0   ┆ 0   ┆ 1   ┆ clothes_washer │\n",
      "└────────────┴──────┴─────┴─────┴─────┴─────┴────────────────┘\n",
      "Working on key: kitchen_dishwasher\n",
      "shape: (5, 7)\n",
      "┌────────────┬──────┬─────┬─────┬─────┬─────┬────────────────────┐\n",
      "│ unix_ts    ┆ Irms ┆ pf  ┆ P   ┆ Q   ┆ S   ┆ label              │\n",
      "│ ---        ┆ ---  ┆ --- ┆ --- ┆ --- ┆ --- ┆ ---                │\n",
      "│ i64        ┆ f64  ┆ f64 ┆ i64 ┆ i64 ┆ i64 ┆ str                │\n",
      "╞════════════╪══════╪═════╪═════╪═════╪═════╪════════════════════╡\n",
      "│ 1457251200 ┆ 0.0  ┆ 0.0 ┆ 0   ┆ 0   ┆ 0   ┆ kitchen_dishwasher │\n",
      "│ 1457251201 ┆ 0.0  ┆ 0.0 ┆ 0   ┆ 0   ┆ 0   ┆ kitchen_dishwasher │\n",
      "│ 1457251202 ┆ 0.0  ┆ 0.0 ┆ 0   ┆ 0   ┆ 0   ┆ kitchen_dishwasher │\n",
      "│ 1457251203 ┆ 0.0  ┆ 0.0 ┆ 0   ┆ 0   ┆ 0   ┆ kitchen_dishwasher │\n",
      "│ 1457251204 ┆ 0.0  ┆ 0.0 ┆ 0   ┆ 0   ┆ 0   ┆ kitchen_dishwasher │\n",
      "└────────────┴──────┴─────┴─────┴─────┴─────┴────────────────────┘\n",
      "Working on key: furnace_and_hot_water_unit\n",
      "shape: (5, 7)\n",
      "┌────────────┬──────┬──────────┬─────┬─────┬─────┬────────────────────────────┐\n",
      "│ unix_ts    ┆ Irms ┆ pf       ┆ P   ┆ Q   ┆ S   ┆ label                      │\n",
      "│ ---        ┆ ---  ┆ ---      ┆ --- ┆ --- ┆ --- ┆ ---                        │\n",
      "│ i64        ┆ f64  ┆ f64      ┆ i64 ┆ i64 ┆ i64 ┆ str                        │\n",
      "╞════════════╪══════╪══════════╪═════╪═════╪═════╪════════════════════════════╡\n",
      "│ 1457251200 ┆ 1.8  ┆ 0.748837 ┆ 161 ┆ 16  ┆ 215 ┆ furnace_and_hot_water_unit │\n",
      "│ 1457251201 ┆ 1.8  ┆ 0.74537  ┆ 161 ┆ 16  ┆ 216 ┆ furnace_and_hot_water_unit │\n",
      "│ 1457251202 ┆ 1.8  ┆ 0.746544 ┆ 162 ┆ 16  ┆ 217 ┆ furnace_and_hot_water_unit │\n",
      "│ 1457251203 ┆ 1.8  ┆ 0.74537  ┆ 161 ┆ 17  ┆ 216 ┆ furnace_and_hot_water_unit │\n",
      "│ 1457251204 ┆ 1.8  ┆ 0.74537  ┆ 161 ┆ 17  ┆ 216 ┆ furnace_and_hot_water_unit │\n",
      "└────────────┴──────┴──────────┴─────┴─────┴─────┴────────────────────────────┘\n",
      "Working on key: basement_plugs_and_lights\n",
      "shape: (5, 7)\n",
      "┌────────────┬──────┬──────────┬─────┬─────┬─────┬───────────────────────────┐\n",
      "│ unix_ts    ┆ Irms ┆ pf       ┆ P   ┆ Q   ┆ S   ┆ label                     │\n",
      "│ ---        ┆ ---  ┆ ---      ┆ --- ┆ --- ┆ --- ┆ ---                       │\n",
      "│ i64        ┆ f64  ┆ f64      ┆ i64 ┆ i64 ┆ i64 ┆ str                       │\n",
      "╞════════════╪══════╪══════════╪═════╪═════╪═════╪═══════════════════════════╡\n",
      "│ 1457251200 ┆ 1.0  ┆ 0.949153 ┆ 112 ┆ 32  ┆ 118 ┆ basement_plugs_and_lights │\n",
      "│ 1457251201 ┆ 1.0  ┆ 0.941176 ┆ 112 ┆ 32  ┆ 119 ┆ basement_plugs_and_lights │\n",
      "│ 1457251202 ┆ 1.0  ┆ 0.949153 ┆ 112 ┆ 32  ┆ 118 ┆ basement_plugs_and_lights │\n",
      "│ 1457251203 ┆ 1.0  ┆ 0.941176 ┆ 112 ┆ 32  ┆ 119 ┆ basement_plugs_and_lights │\n",
      "│ 1457251204 ┆ 1.0  ┆ 0.949153 ┆ 112 ┆ 32  ┆ 118 ┆ basement_plugs_and_lights │\n",
      "└────────────┴──────┴──────────┴─────┴─────┴─────┴───────────────────────────┘\n",
      "Working on key: garage_sub_panel\n",
      "shape: (5, 7)\n",
      "┌────────────┬──────┬─────┬─────┬─────┬─────┬──────────────────┐\n",
      "│ unix_ts    ┆ Irms ┆ pf  ┆ P   ┆ Q   ┆ S   ┆ label            │\n",
      "│ ---        ┆ ---  ┆ --- ┆ --- ┆ --- ┆ --- ┆ ---              │\n",
      "│ i64        ┆ f64  ┆ f64 ┆ f64 ┆ f64 ┆ f64 ┆ str              │\n",
      "╞════════════╪══════╪═════╪═════╪═════╪═════╪══════════════════╡\n",
      "│ 1457251200 ┆ 0.0  ┆ 0.0 ┆ 0.0 ┆ 0.0 ┆ 8.0 ┆ garage_sub_panel │\n",
      "│ 1457251201 ┆ 0.0  ┆ 0.0 ┆ 0.0 ┆ 0.0 ┆ 8.0 ┆ garage_sub_panel │\n",
      "│ 1457251202 ┆ 0.0  ┆ 0.0 ┆ 0.0 ┆ 0.0 ┆ 8.0 ┆ garage_sub_panel │\n",
      "│ 1457251203 ┆ 0.0  ┆ 0.0 ┆ 0.0 ┆ 0.0 ┆ 8.0 ┆ garage_sub_panel │\n",
      "│ 1457251204 ┆ 0.0  ┆ 0.0 ┆ 0.0 ┆ 0.0 ┆ 8.0 ┆ garage_sub_panel │\n",
      "└────────────┴──────┴─────┴─────┴─────┴─────┴──────────────────┘\n",
      "Working on key: upstairs_plug_and_lights\n",
      "shape: (5, 7)\n",
      "┌────────────┬──────┬──────────┬─────┬──────┬──────┬──────────────────────────┐\n",
      "│ unix_ts    ┆ Irms ┆ pf       ┆ P   ┆ Q    ┆ S    ┆ label                    │\n",
      "│ ---        ┆ ---  ┆ ---      ┆ --- ┆ ---  ┆ ---  ┆ ---                      │\n",
      "│ i64        ┆ f64  ┆ f64      ┆ f64 ┆ f64  ┆ f64  ┆ str                      │\n",
      "╞════════════╪══════╪══════════╪═════╪══════╪══════╪══════════════════════════╡\n",
      "│ 1457251200 ┆ 0.3  ┆ 0.219512 ┆ 9.0 ┆ 35.0 ┆ 41.0 ┆ upstairs_plug_and_lights │\n",
      "│ 1457251201 ┆ 0.3  ┆ 0.219512 ┆ 9.0 ┆ 35.0 ┆ 41.0 ┆ upstairs_plug_and_lights │\n",
      "│ 1457251202 ┆ 0.3  ┆ 0.219512 ┆ 9.0 ┆ 35.0 ┆ 41.0 ┆ upstairs_plug_and_lights │\n",
      "│ 1457251203 ┆ 0.3  ┆ 0.219512 ┆ 9.0 ┆ 36.0 ┆ 41.0 ┆ upstairs_plug_and_lights │\n",
      "│ 1457251204 ┆ 0.3  ┆ 0.219512 ┆ 9.0 ┆ 36.0 ┆ 41.0 ┆ upstairs_plug_and_lights │\n",
      "└────────────┴──────┴──────────┴─────┴──────┴──────┴──────────────────────────┘\n",
      "Working on key: basement_blue_plugs\n",
      "shape: (5, 7)\n",
      "┌────────────┬──────┬──────────┬─────┬─────┬─────┬─────────────────────┐\n",
      "│ unix_ts    ┆ Irms ┆ pf       ┆ P   ┆ Q   ┆ S   ┆ label               │\n",
      "│ ---        ┆ ---  ┆ ---      ┆ --- ┆ --- ┆ --- ┆ ---                 │\n",
      "│ i64        ┆ f64  ┆ f64      ┆ i64 ┆ i64 ┆ i64 ┆ str                 │\n",
      "╞════════════╪══════╪══════════╪═════╪═════╪═════╪═════════════════════╡\n",
      "│ 1457251200 ┆ 0.2  ┆ 0.606061 ┆ 20  ┆ 12  ┆ 33  ┆ basement_blue_plugs │\n",
      "│ 1457251201 ┆ 0.2  ┆ 0.606061 ┆ 20  ┆ 12  ┆ 33  ┆ basement_blue_plugs │\n",
      "│ 1457251202 ┆ 0.2  ┆ 0.606061 ┆ 20  ┆ 12  ┆ 33  ┆ basement_blue_plugs │\n",
      "│ 1457251203 ┆ 0.3  ┆ 0.638889 ┆ 23  ┆ 12  ┆ 36  ┆ basement_blue_plugs │\n",
      "│ 1457251204 ┆ 0.2  ┆ 0.617647 ┆ 21  ┆ 12  ┆ 34  ┆ basement_blue_plugs │\n",
      "└────────────┴──────┴──────────┴─────┴─────┴─────┴─────────────────────┘\n",
      "Working on key: bathrooms\n",
      "shape: (5, 7)\n",
      "┌────────────┬──────┬─────┬─────┬─────┬─────┬───────────┐\n",
      "│ unix_ts    ┆ Irms ┆ pf  ┆ P   ┆ Q   ┆ S   ┆ label     │\n",
      "│ ---        ┆ ---  ┆ --- ┆ --- ┆ --- ┆ --- ┆ ---       │\n",
      "│ i64        ┆ f64  ┆ f64 ┆ i64 ┆ i64 ┆ i64 ┆ str       │\n",
      "╞════════════╪══════╪═════╪═════╪═════╪═════╪═══════════╡\n",
      "│ 1457251200 ┆ 0.0  ┆ 0.6 ┆ 3   ┆ 3   ┆ 5   ┆ bathrooms │\n",
      "│ 1457251201 ┆ 0.0  ┆ 0.4 ┆ 2   ┆ 3   ┆ 5   ┆ bathrooms │\n",
      "│ 1457251202 ┆ 0.0  ┆ 0.4 ┆ 2   ┆ 3   ┆ 5   ┆ bathrooms │\n",
      "│ 1457251203 ┆ 0.0  ┆ 0.4 ┆ 2   ┆ 3   ┆ 5   ┆ bathrooms │\n",
      "│ 1457251204 ┆ 0.0  ┆ 0.4 ┆ 2   ┆ 3   ┆ 5   ┆ bathrooms │\n",
      "└────────────┴──────┴─────┴─────┴─────┴─────┴───────────┘\n",
      "Working on key: rental_suite_sub_panel\n",
      "shape: (5, 7)\n",
      "┌────────────┬──────┬──────────┬──────┬──────┬──────┬────────────────────────┐\n",
      "│ unix_ts    ┆ Irms ┆ pf       ┆ P    ┆ Q    ┆ S    ┆ label                  │\n",
      "│ ---        ┆ ---  ┆ ---      ┆ ---  ┆ ---  ┆ ---  ┆ ---                    │\n",
      "│ i64        ┆ f64  ┆ f64      ┆ f64  ┆ f64  ┆ f64  ┆ str                    │\n",
      "╞════════════╪══════╪══════════╪══════╪══════╪══════╪════════════════════════╡\n",
      "│ 1457251200 ┆ 0.5  ┆ 0.657143 ┆ 46.0 ┆ 10.0 ┆ 70.0 ┆ rental_suite_sub_panel │\n",
      "│ 1457251201 ┆ 0.5  ┆ 0.657143 ┆ 46.0 ┆ 10.0 ┆ 70.0 ┆ rental_suite_sub_panel │\n",
      "│ 1457251202 ┆ 0.5  ┆ 0.671429 ┆ 47.0 ┆ 10.0 ┆ 70.0 ┆ rental_suite_sub_panel │\n",
      "│ 1457251203 ┆ 0.5  ┆ 0.671429 ┆ 47.0 ┆ 10.0 ┆ 70.0 ┆ rental_suite_sub_panel │\n",
      "│ 1457251204 ┆ 0.5  ┆ 0.657143 ┆ 46.0 ┆ 11.0 ┆ 70.0 ┆ rental_suite_sub_panel │\n",
      "└────────────┴──────┴──────────┴──────┴──────┴──────┴────────────────────────┘\n",
      "Working on key: misc_plugs\n",
      "shape: (5, 7)\n",
      "┌────────────┬──────┬─────┬─────┬─────┬─────┬────────────┐\n",
      "│ unix_ts    ┆ Irms ┆ pf  ┆ P   ┆ Q   ┆ S   ┆ label      │\n",
      "│ ---        ┆ ---  ┆ --- ┆ --- ┆ --- ┆ --- ┆ ---        │\n",
      "│ i64        ┆ f64  ┆ f64 ┆ i64 ┆ i64 ┆ i64 ┆ str        │\n",
      "╞════════════╪══════╪═════╪═════╪═════╪═════╪════════════╡\n",
      "│ 1457251200 ┆ 0.0  ┆ 0.0 ┆ 0   ┆ 1   ┆ 2   ┆ misc_plugs │\n",
      "│ 1457251201 ┆ 0.0  ┆ 0.0 ┆ 0   ┆ 1   ┆ 2   ┆ misc_plugs │\n",
      "│ 1457251202 ┆ 0.0  ┆ 0.0 ┆ 0   ┆ 1   ┆ 2   ┆ misc_plugs │\n",
      "│ 1457251203 ┆ 0.0  ┆ 0.0 ┆ 0   ┆ 1   ┆ 2   ┆ misc_plugs │\n",
      "│ 1457251204 ┆ 0.0  ┆ 0.0 ┆ 0   ┆ 1   ┆ 2   ┆ misc_plugs │\n",
      "└────────────┴──────┴─────┴─────┴─────┴─────┴────────────┘\n",
      "Working on key: home_office\n",
      "shape: (5, 7)\n",
      "┌────────────┬──────┬──────────┬─────┬─────┬─────┬─────────────┐\n",
      "│ unix_ts    ┆ Irms ┆ pf       ┆ P   ┆ Q   ┆ S   ┆ label       │\n",
      "│ ---        ┆ ---  ┆ ---      ┆ --- ┆ --- ┆ --- ┆ ---         │\n",
      "│ i64        ┆ f64  ┆ f64      ┆ i64 ┆ i64 ┆ i64 ┆ str         │\n",
      "╞════════════╪══════╪══════════╪═════╪═════╪═════╪═════════════╡\n",
      "│ 1457251200 ┆ 0.9  ┆ 0.702703 ┆ 78  ┆ 4   ┆ 111 ┆ home_office │\n",
      "│ 1457251201 ┆ 0.9  ┆ 0.702703 ┆ 78  ┆ 4   ┆ 111 ┆ home_office │\n",
      "│ 1457251202 ┆ 0.9  ┆ 0.696429 ┆ 78  ┆ 4   ┆ 112 ┆ home_office │\n",
      "│ 1457251203 ┆ 0.9  ┆ 0.696429 ┆ 78  ┆ 4   ┆ 112 ┆ home_office │\n",
      "│ 1457251204 ┆ 0.9  ┆ 0.702703 ┆ 78  ┆ 5   ┆ 111 ┆ home_office │\n",
      "└────────────┴──────┴──────────┴─────┴─────┴─────┴─────────────┘\n"
     ]
    }
   ],
   "source": [
    "save_path = f\"/opt/nilm-shared-data/nilm_device_detection/other_dataset/RAE_dataset/transform_data/raw\"\n",
    "for key in meter_ids_dict:\n",
    "    meter_ids = meter_ids_dict[key]\n",
    "    print(f\"Working on key: {key}\")\n",
    "    if len(meter_ids) == 2:\n",
    "        load1_df = house1_all_data.filter(pl.col(\"sub\") == meter_ids[0])\n",
    "        load2_df = house1_all_data.filter(pl.col(\"sub\") == meter_ids[1])\n",
    "        combined_np = load1_df[:, 3:].to_numpy() + load2_df[:, 3:].to_numpy()\n",
    "        combined_df = pl.DataFrame(combined_np, schema=[\"Irms\", \"P\", \"Q\", \"S\"])\n",
    "        combined_df = combined_df.with_columns(label=pl.lit(key))\n",
    "        combined_df = combined_df.with_columns(unix_ts=pl.lit(load1_df[\"unix_ts\"]))\n",
    "        combined_df = combined_df.with_columns(pf=pl.col(\"P\")/pl.col(\"S\"))\n",
    "        combined_df = combined_df.with_columns(\n",
    "            pl.when(combined_df[\"S\"] != 0)\n",
    "            .then(combined_df[\"P\"]/combined_df[\"S\"])\n",
    "            .otherwise(0)\n",
    "            .alias(\"pf\")\n",
    "        )\n",
    "        combined_df = combined_df.select(transform_columns)\n",
    "        print(combined_df.head())\n",
    "        combined_df.to_pandas().to_csv(os.path.join(save_path, f\"house1_{key}.csv\"))\n",
    "    elif len(meter_ids) == 1:\n",
    "        load_df = house1_all_data.filter(pl.col(\"sub\") == meter_ids[0])\n",
    "        load_df = load_df.rename({\"I\": \"Irms\"})\n",
    "        load_df = load_df.with_columns(label=pl.lit(key))  \n",
    "        load_df = load_df.with_columns(\n",
    "            pl.when(load_df[\"S\"] != 0)\n",
    "            .then(load_df[\"P\"]/load_df[\"S\"])\n",
    "            .otherwise(0)\n",
    "            .alias(\"pf\")\n",
    "        )\n",
    "        load_df = load_df.select(transform_columns)\n",
    "        print(load_df.head())\n",
    "        load_df.to_pandas().to_csv(os.path.join(save_path, f\"house1_{key}.csv\"))"
   ]
  },
  {
   "cell_type": "markdown",
   "metadata": {},
   "source": [
    "# House 2"
   ]
  },
  {
   "cell_type": "code",
   "execution_count": 3,
   "metadata": {},
   "outputs": [
    {
     "data": {
      "text/plain": [
       "104588169"
      ]
     },
     "execution_count": 3,
     "metadata": {},
     "output_type": "execute_result"
    }
   ],
   "source": [
    "house2_data = pl.read_csv(\"../../data/RAE_dataset/raw_data/house2_subs_blk1.csv\")\n",
    "len(house2_data)"
   ]
  },
  {
   "cell_type": "code",
   "execution_count": 4,
   "metadata": {},
   "outputs": [],
   "source": [
    "transform_columns = [\"unix_ts\", \"Irms\", \"pf\", \"P\", \"Q\", \"S\", \"label\"]\n",
    "select_columns = [\"unix_ts\", \"sub\", \"V\", \"I\", \"P\", \"Q\", \"S\"]\n",
    "save_path = \"../../data/RAE_dataset/transform_data\""
   ]
  },
  {
   "cell_type": "code",
   "execution_count": 5,
   "metadata": {},
   "outputs": [
    {
     "data": {
      "text/html": [
       "<div><style>\n",
       ".dataframe > thead > tr,\n",
       ".dataframe > tbody > tr {\n",
       "  text-align: right;\n",
       "  white-space: pre-wrap;\n",
       "}\n",
       "</style>\n",
       "<small>shape: (5, 7)</small><table border=\"1\" class=\"dataframe\"><thead><tr><th>unix_ts</th><th>sub</th><th>V</th><th>I</th><th>P</th><th>Q</th><th>S</th></tr><tr><td>i64</td><td>i64</td><td>f64</td><td>f64</td><td>i64</td><td>i64</td><td>i64</td></tr></thead><tbody><tr><td>1505286000</td><td>1</td><td>120.9</td><td>0.9</td><td>71</td><td>57</td><td>111</td></tr><tr><td>1505286000</td><td>2</td><td>121.1</td><td>0.3</td><td>32</td><td>14</td><td>40</td></tr><tr><td>1505286000</td><td>3</td><td>121.1</td><td>0.0</td><td>0</td><td>0</td><td>0</td></tr><tr><td>1505286000</td><td>4</td><td>120.9</td><td>0.0</td><td>0</td><td>0</td><td>0</td></tr><tr><td>1505286000</td><td>5</td><td>121.1</td><td>0.0</td><td>1</td><td>0</td><td>3</td></tr></tbody></table></div>"
      ],
      "text/plain": [
       "shape: (5, 7)\n",
       "┌────────────┬─────┬───────┬─────┬─────┬─────┬─────┐\n",
       "│ unix_ts    ┆ sub ┆ V     ┆ I   ┆ P   ┆ Q   ┆ S   │\n",
       "│ ---        ┆ --- ┆ ---   ┆ --- ┆ --- ┆ --- ┆ --- │\n",
       "│ i64        ┆ i64 ┆ f64   ┆ f64 ┆ i64 ┆ i64 ┆ i64 │\n",
       "╞════════════╪═════╪═══════╪═════╪═════╪═════╪═════╡\n",
       "│ 1505286000 ┆ 1   ┆ 120.9 ┆ 0.9 ┆ 71  ┆ 57  ┆ 111 │\n",
       "│ 1505286000 ┆ 2   ┆ 121.1 ┆ 0.3 ┆ 32  ┆ 14  ┆ 40  │\n",
       "│ 1505286000 ┆ 3   ┆ 121.1 ┆ 0.0 ┆ 0   ┆ 0   ┆ 0   │\n",
       "│ 1505286000 ┆ 4   ┆ 120.9 ┆ 0.0 ┆ 0   ┆ 0   ┆ 0   │\n",
       "│ 1505286000 ┆ 5   ┆ 121.1 ┆ 0.0 ┆ 1   ┆ 0   ┆ 3   │\n",
       "└────────────┴─────┴───────┴─────┴─────┴─────┴─────┘"
      ]
     },
     "execution_count": 5,
     "metadata": {},
     "output_type": "execute_result"
    }
   ],
   "source": [
    "house2_data = house2_data.select(select_columns)\n",
    "house2_data.head()"
   ]
  },
  {
   "cell_type": "markdown",
   "metadata": {},
   "source": [
    "## Transform data"
   ]
  },
  {
   "cell_type": "markdown",
   "metadata": {},
   "source": [
    "<b>House 2 label</b>\n",
    "-  1 House Sub-Panel L1\n",
    "-  2 House Sub-Panel L2\n",
    "-  3 Lights & Plugs (general label)\n",
    "-  4 Clothes Dryer L1\n",
    "-  5 Clothes Dryer L2\n",
    "-  6 Bedroom Plugs\n",
    "-  7 Built-in Vacuum\n",
    "-  8 Boiler (for hot water and radiant heating)\n",
    "-  9 Lights & Plugs (general label)\n",
    "- 10 Clothes Washer\n",
    "- 11 Kitchen Fridge\n",
    "- 12 Lights & Plugs (general label, incl. Internet modem and network equipment)\n",
    "- 13 Bedrooms AFCI Arc-Fault Plugs\n",
    "- 14 Kitchen Counter Plugs\n",
    "- 15 Kitchen Counter Plugs\n",
    "- 16 Lights & Plugs (general label)\n",
    "- 17 Lights & Plugs (general label)\n",
    "- 18 Outside Plugs\n",
    "- 19 Dishwasher\n",
    "- 20 Lights & Plugs (general label)\n",
    "- 21 Mobile Phone Changers (garburator & microwave not installed)"
   ]
  },
  {
   "cell_type": "code",
   "execution_count": 1,
   "metadata": {},
   "outputs": [
    {
     "name": "stdout",
     "output_type": "stream",
     "text": [
      "Working on key: lights_and_plugs_3\n"
     ]
    },
    {
     "ename": "NameError",
     "evalue": "name 'house2_data' is not defined",
     "output_type": "error",
     "traceback": [
      "\u001b[0;31m---------------------------------------------------------------------------\u001b[0m",
      "\u001b[0;31mNameError\u001b[0m                                 Traceback (most recent call last)",
      "Cell \u001b[0;32mIn[1], line 27\u001b[0m\n\u001b[1;32m     25\u001b[0m     combined_df\u001b[38;5;241m.\u001b[39mto_pandas()\u001b[38;5;241m.\u001b[39mto_csv(os\u001b[38;5;241m.\u001b[39mpath\u001b[38;5;241m.\u001b[39mjoin(save_path, \u001b[38;5;124mf\u001b[39m\u001b[38;5;124m\"\u001b[39m\u001b[38;5;124mhouse2_\u001b[39m\u001b[38;5;132;01m{\u001b[39;00mkey\u001b[38;5;132;01m}\u001b[39;00m\u001b[38;5;124m.csv\u001b[39m\u001b[38;5;124m\"\u001b[39m))\n\u001b[1;32m     26\u001b[0m \u001b[38;5;28;01melif\u001b[39;00m \u001b[38;5;28mlen\u001b[39m(meter_ids) \u001b[38;5;241m==\u001b[39m \u001b[38;5;241m1\u001b[39m:\n\u001b[0;32m---> 27\u001b[0m     load_df \u001b[38;5;241m=\u001b[39m \u001b[43mhouse2_data\u001b[49m\u001b[38;5;241m.\u001b[39mfilter(pl\u001b[38;5;241m.\u001b[39mcol(\u001b[38;5;124m\"\u001b[39m\u001b[38;5;124msub\u001b[39m\u001b[38;5;124m\"\u001b[39m) \u001b[38;5;241m==\u001b[39m meter_ids[\u001b[38;5;241m0\u001b[39m])\n\u001b[1;32m     28\u001b[0m     load_df \u001b[38;5;241m=\u001b[39m load_df\u001b[38;5;241m.\u001b[39mrename({\u001b[38;5;124m\"\u001b[39m\u001b[38;5;124mI\u001b[39m\u001b[38;5;124m\"\u001b[39m: \u001b[38;5;124m\"\u001b[39m\u001b[38;5;124mIrms\u001b[39m\u001b[38;5;124m\"\u001b[39m})\n\u001b[1;32m     29\u001b[0m     load_df \u001b[38;5;241m=\u001b[39m load_df\u001b[38;5;241m.\u001b[39mwith_columns(label\u001b[38;5;241m=\u001b[39mpl\u001b[38;5;241m.\u001b[39mlit(key))  \n",
      "\u001b[0;31mNameError\u001b[0m: name 'house2_data' is not defined"
     ]
    }
   ],
   "source": [
    "house2_meters = {\n",
    "    \"lights_and_plugs_3\": [3],\n",
    "    \"lights_and_plugs_16\": [16],\n",
    "    \"lights_and_plugs_20\": [20]\n",
    "}\n",
    "\n",
    "for key in house2_meters:\n",
    "    meter_ids = house2_meters[key]\n",
    "    print(f\"Working on key: {key}\")\n",
    "    if len(meter_ids) == 2:\n",
    "        load1_df = house2_data.filter(pl.col(\"sub\") == meter_ids[0])\n",
    "        load2_df = house2_data.filter(pl.col(\"sub\") == meter_ids[1])\n",
    "        combined_np = load1_df[:, 3:].to_numpy() + load2_df[:, 3:].to_numpy()\n",
    "        combined_df = pl.DataFrame(combined_np, schema=[\"Irms\", \"P\", \"Q\", \"S\"])\n",
    "        combined_df = combined_df.with_columns(label=pl.lit(key))\n",
    "        combined_df = combined_df.with_columns(unix_ts=pl.lit(load1_df[\"unix_ts\"]))\n",
    "        combined_df = combined_df.with_columns(\n",
    "            pl.when(combined_df[\"S\"] != 0)\n",
    "            .then(combined_df[\"P\"]/combined_df[\"S\"])\n",
    "            .otherwise(0)\n",
    "            .alias(\"pf\")\n",
    "        )\n",
    "        combined_df = combined_df.select(transform_columns)\n",
    "        print(combined_df.head())\n",
    "        combined_df.to_pandas().to_csv(os.path.join(save_path, f\"house2_{key}.csv\"))\n",
    "    elif len(meter_ids) == 1:\n",
    "        load_df = house2_data.filter(pl.col(\"sub\") == meter_ids[0])\n",
    "        load_df = load_df.rename({\"I\": \"Irms\"})\n",
    "        load_df = load_df.with_columns(label=pl.lit(key))  \n",
    "        load_df = load_df.with_columns(\n",
    "            pl.when(load_df[\"S\"] != 0)\n",
    "            .then(load_df[\"P\"]/load_df[\"S\"])\n",
    "            .otherwise(0)\n",
    "            .alias(\"pf\")\n",
    "        )\n",
    "        load_df = load_df.select(transform_columns)\n",
    "        print(load_df.head())\n",
    "        load_df.to_pandas().to_csv(os.path.join(save_path, f\"house2_{key}.csv\"))"
   ]
  }
 ],
 "metadata": {
  "kernelspec": {
   "display_name": "mylab-nilm-env",
   "language": "python",
   "name": "python3"
  },
  "language_info": {
   "codemirror_mode": {
    "name": "ipython",
    "version": 3
   },
   "file_extension": ".py",
   "mimetype": "text/x-python",
   "name": "python",
   "nbconvert_exporter": "python",
   "pygments_lexer": "ipython3",
   "version": "3.12.1"
  }
 },
 "nbformat": 4,
 "nbformat_minor": 2
}
