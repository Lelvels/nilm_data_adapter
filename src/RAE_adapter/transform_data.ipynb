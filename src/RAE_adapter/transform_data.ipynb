{
 "cells": [
  {
   "cell_type": "code",
   "execution_count": 3,
   "metadata": {},
   "outputs": [],
   "source": [
    "import polars as pl\n",
    "import numpy as np\n",
    "import pandas as pd\n",
    "import os"
   ]
  },
  {
   "cell_type": "markdown",
   "metadata": {},
   "source": [
    "# House 1"
   ]
  },
  {
   "cell_type": "markdown",
   "metadata": {},
   "source": [
    "## Read all data"
   ]
  },
  {
   "cell_type": "code",
   "execution_count": 4,
   "metadata": {},
   "outputs": [
    {
     "data": {
      "text/plain": [
       "145637040"
      ]
     },
     "execution_count": 4,
     "metadata": {},
     "output_type": "execute_result"
    }
   ],
   "source": [
    "house1_data = pl.concat([pl.read_csv(\"../../data/RAE_dataset/raw_data/house1_subs_blk2.csv\"), \n",
    "            pl.read_csv(\"../../data/RAE_dataset/raw_data/house1_subs_blk1.csv\")])\n",
    "len(house1_data)"
   ]
  },
  {
   "cell_type": "code",
   "execution_count": 5,
   "metadata": {},
   "outputs": [],
   "source": [
    "transform_columns = [\"unix_ts\", \"Irms\", \"pf\", \"P\", \"Q\", \"S\", \"label\"]\n",
    "save_path = \"../../data/RAE_dataset/transform_data\""
   ]
  },
  {
   "cell_type": "code",
   "execution_count": 6,
   "metadata": {},
   "outputs": [],
   "source": [
    "select_columns = [\"unix_ts\", \"sub\", \"V\", \"I\", \"P\", \"Q\", \"S\"]\n",
    "house1_data = house1_data.select(select_columns)"
   ]
  },
  {
   "cell_type": "code",
   "execution_count": 7,
   "metadata": {},
   "outputs": [
    {
     "data": {
      "text/html": [
       "<div><style>\n",
       ".dataframe > thead > tr,\n",
       ".dataframe > tbody > tr {\n",
       "  text-align: right;\n",
       "  white-space: pre-wrap;\n",
       "}\n",
       "</style>\n",
       "<small>shape: (5, 7)</small><table border=\"1\" class=\"dataframe\"><thead><tr><th>unix_ts</th><th>sub</th><th>V</th><th>I</th><th>P</th><th>Q</th><th>S</th></tr><tr><td>i64</td><td>i64</td><td>f64</td><td>f64</td><td>i64</td><td>i64</td><td>i64</td></tr></thead><tbody><tr><td>1457251200</td><td>1</td><td>119.7</td><td>0.0</td><td>0</td><td>0</td><td>3</td></tr><tr><td>1457251200</td><td>2</td><td>119.1</td><td>0.0</td><td>1</td><td>0</td><td>3</td></tr><tr><td>1457251200</td><td>3</td><td>119.7</td><td>0.0</td><td>0</td><td>0</td><td>1</td></tr><tr><td>1457251200</td><td>4</td><td>119.1</td><td>0.0</td><td>1</td><td>2</td><td>3</td></tr><tr><td>1457251200</td><td>5</td><td>119.7</td><td>0.0</td><td>0</td><td>0</td><td>3</td></tr></tbody></table></div>"
      ],
      "text/plain": [
       "shape: (5, 7)\n",
       "┌────────────┬─────┬───────┬─────┬─────┬─────┬─────┐\n",
       "│ unix_ts    ┆ sub ┆ V     ┆ I   ┆ P   ┆ Q   ┆ S   │\n",
       "│ ---        ┆ --- ┆ ---   ┆ --- ┆ --- ┆ --- ┆ --- │\n",
       "│ i64        ┆ i64 ┆ f64   ┆ f64 ┆ i64 ┆ i64 ┆ i64 │\n",
       "╞════════════╪═════╪═══════╪═════╪═════╪═════╪═════╡\n",
       "│ 1457251200 ┆ 1   ┆ 119.7 ┆ 0.0 ┆ 0   ┆ 0   ┆ 3   │\n",
       "│ 1457251200 ┆ 2   ┆ 119.1 ┆ 0.0 ┆ 1   ┆ 0   ┆ 3   │\n",
       "│ 1457251200 ┆ 3   ┆ 119.7 ┆ 0.0 ┆ 0   ┆ 0   ┆ 1   │\n",
       "│ 1457251200 ┆ 4   ┆ 119.1 ┆ 0.0 ┆ 1   ┆ 2   ┆ 3   │\n",
       "│ 1457251200 ┆ 5   ┆ 119.7 ┆ 0.0 ┆ 0   ┆ 0   ┆ 3   │\n",
       "└────────────┴─────┴───────┴─────┴─────┴─────┴─────┘"
      ]
     },
     "execution_count": 7,
     "metadata": {},
     "output_type": "execute_result"
    }
   ],
   "source": [
    "house1_data.head()"
   ]
  },
  {
   "cell_type": "markdown",
   "metadata": {},
   "source": [
    "## Transform data"
   ]
  },
  {
   "cell_type": "markdown",
   "metadata": {},
   "source": [
    "<b>House 1 labels:</b>\n",
    "-  1 Kitchen Wall Oven L1\n",
    "-  2 Kitchen Wall Oven L2\n",
    "-  3 Kitchen Counter Plugs L1\n",
    "-  4 Kitchen Counter Plugs L2\n",
    "-  5 Clothes Dryer L1\n",
    "-  6 Clothes Dryer L2\n",
    "-  7 Upstairs Bedroom AFCI Arc-Fault Plugs\n",
    "-  8 Kitchen Fridge\n",
    "-  9 Clothes Washer\n",
    "- 10 Kitchen Dishwasher\n",
    "- 11 Furnace & Hot Water Unit (incl. Furnace Room Plug)\n",
    "- 12 Basement Plugs & Lights (incl. Outside Plugs)\n",
    "- 13 Heat Pump L1\n",
    "- 14 Heat Pump L2\n",
    "- 15 Garage Sub-Panel L1\n",
    "- 16 Garage Sub-Panel L2\n",
    "- 17 Upstairs Plugs & Lights L1 (incl. Bathroom Lights and Vent Fan, Smoke Alarms, Living Room Plugs)\n",
    "- 18 Upstairs Plugs & Lights L2 (incl. Bathroom Lights and Vent Fan, Smoke Alarms, Living Room Plugs)\n",
    "- 19 Basement Blue Plugs (incl. Ent. TV/Amp/DVD/PVR)\n",
    "- 20 Bathrooms (incl. 3 GFCI Plugs, 2 Lights, 1 Vent Fan, Chest Freezer)\n",
    "- 21 Rental Suite Sub-Panel L1\n",
    "- 22 Rental Suite Sub-Panel L2\n",
    "- 23 Misc. Plugs (incl. Dining Room, Gas Cooktop, Microwave)\n",
    "- 24 Home Office (incl. Telco/Cable/Net/Security Equip.)"
   ]
  },
  {
   "cell_type": "code",
   "execution_count": 8,
   "metadata": {},
   "outputs": [],
   "source": [
    "meter_ids_dict = {\n",
    "    \"clothes_dryer\": [5,6],\n",
    "    \"kitchen_oven\": [1,2],\n",
    "    \"kitchen_fridge\": [8],\n",
    "    \"heat_pump\": [13, 14]\n",
    "}"
   ]
  },
  {
   "cell_type": "code",
   "execution_count": 9,
   "metadata": {},
   "outputs": [
    {
     "name": "stdout",
     "output_type": "stream",
     "text": [
      "Working on key: clothes_dryer\n",
      "shape: (5, 7)\n",
      "┌────────────┬──────┬─────┬─────┬─────┬─────┬───────────────┐\n",
      "│ unix_ts    ┆ Irms ┆ pf  ┆ P   ┆ Q   ┆ S   ┆ label         │\n",
      "│ ---        ┆ ---  ┆ --- ┆ --- ┆ --- ┆ --- ┆ ---           │\n",
      "│ i64        ┆ f64  ┆ f64 ┆ f64 ┆ f64 ┆ f64 ┆ str           │\n",
      "╞════════════╪══════╪═════╪═════╪═════╪═════╪═══════════════╡\n",
      "│ 1457251200 ┆ 0.0  ┆ 0.0 ┆ 0.0 ┆ 0.0 ┆ 5.0 ┆ clothes_dryer │\n",
      "│ 1457251201 ┆ 0.0  ┆ 0.0 ┆ 0.0 ┆ 0.0 ┆ 5.0 ┆ clothes_dryer │\n",
      "│ 1457251202 ┆ 0.0  ┆ 0.0 ┆ 0.0 ┆ 0.0 ┆ 5.0 ┆ clothes_dryer │\n",
      "│ 1457251203 ┆ 0.0  ┆ 0.0 ┆ 0.0 ┆ 0.0 ┆ 5.0 ┆ clothes_dryer │\n",
      "│ 1457251204 ┆ 0.0  ┆ 0.0 ┆ 0.0 ┆ 0.0 ┆ 5.0 ┆ clothes_dryer │\n",
      "└────────────┴──────┴─────┴─────┴─────┴─────┴───────────────┘\n",
      "Working on key: kitchen_oven\n",
      "shape: (5, 7)\n",
      "┌────────────┬──────┬──────────┬─────┬─────┬─────┬──────────────┐\n",
      "│ unix_ts    ┆ Irms ┆ pf       ┆ P   ┆ Q   ┆ S   ┆ label        │\n",
      "│ ---        ┆ ---  ┆ ---      ┆ --- ┆ --- ┆ --- ┆ ---          │\n",
      "│ i64        ┆ f64  ┆ f64      ┆ f64 ┆ f64 ┆ f64 ┆ str          │\n",
      "╞════════════╪══════╪══════════╪═════╪═════╪═════╪══════════════╡\n",
      "│ 1457251200 ┆ 0.0  ┆ 0.166667 ┆ 1.0 ┆ 0.0 ┆ 6.0 ┆ kitchen_oven │\n",
      "│ 1457251201 ┆ 0.0  ┆ 0.166667 ┆ 1.0 ┆ 0.0 ┆ 6.0 ┆ kitchen_oven │\n",
      "│ 1457251202 ┆ 0.0  ┆ 0.166667 ┆ 1.0 ┆ 0.0 ┆ 6.0 ┆ kitchen_oven │\n",
      "│ 1457251203 ┆ 0.0  ┆ 0.166667 ┆ 1.0 ┆ 0.0 ┆ 6.0 ┆ kitchen_oven │\n",
      "│ 1457251204 ┆ 0.0  ┆ 0.166667 ┆ 1.0 ┆ 0.0 ┆ 6.0 ┆ kitchen_oven │\n",
      "└────────────┴──────┴──────────┴─────┴─────┴─────┴──────────────┘\n",
      "Working on key: kitchen_fridge\n",
      "shape: (5, 7)\n",
      "┌────────────┬──────┬─────┬─────┬─────┬─────┬────────────────┐\n",
      "│ unix_ts    ┆ Irms ┆ pf  ┆ P   ┆ Q   ┆ S   ┆ label          │\n",
      "│ ---        ┆ ---  ┆ --- ┆ --- ┆ --- ┆ --- ┆ ---            │\n",
      "│ i64        ┆ f64  ┆ f64 ┆ i64 ┆ i64 ┆ i64 ┆ str            │\n",
      "╞════════════╪══════╪═════╪═════╪═════╪═════╪════════════════╡\n",
      "│ 1457251200 ┆ 0.0  ┆ 0.0 ┆ 0   ┆ 5   ┆ 5   ┆ kitchen_fridge │\n",
      "│ 1457251201 ┆ 0.0  ┆ 0.0 ┆ 0   ┆ 5   ┆ 5   ┆ kitchen_fridge │\n",
      "│ 1457251202 ┆ 0.0  ┆ 0.0 ┆ 0   ┆ 5   ┆ 5   ┆ kitchen_fridge │\n",
      "│ 1457251203 ┆ 0.0  ┆ 0.0 ┆ 0   ┆ 4   ┆ 5   ┆ kitchen_fridge │\n",
      "│ 1457251204 ┆ 0.0  ┆ 0.0 ┆ 0   ┆ 5   ┆ 5   ┆ kitchen_fridge │\n",
      "└────────────┴──────┴─────┴─────┴─────┴─────┴────────────────┘\n",
      "Working on key: heat_pump\n",
      "shape: (5, 7)\n",
      "┌────────────┬──────┬──────────┬──────┬──────┬──────┬───────────┐\n",
      "│ unix_ts    ┆ Irms ┆ pf       ┆ P    ┆ Q    ┆ S    ┆ label     │\n",
      "│ ---        ┆ ---  ┆ ---      ┆ ---  ┆ ---  ┆ ---  ┆ ---       │\n",
      "│ i64        ┆ f64  ┆ f64      ┆ f64  ┆ f64  ┆ f64  ┆ str       │\n",
      "╞════════════╪══════╪══════════╪══════╪══════╪══════╪═══════════╡\n",
      "│ 1457251200 ┆ 0.2  ┆ 0.880952 ┆ 37.0 ┆ 16.0 ┆ 42.0 ┆ heat_pump │\n",
      "│ 1457251201 ┆ 0.2  ┆ 0.880952 ┆ 37.0 ┆ 16.0 ┆ 42.0 ┆ heat_pump │\n",
      "│ 1457251202 ┆ 0.2  ┆ 0.904762 ┆ 38.0 ┆ 16.0 ┆ 42.0 ┆ heat_pump │\n",
      "│ 1457251203 ┆ 0.2  ┆ 0.878049 ┆ 36.0 ┆ 16.0 ┆ 41.0 ┆ heat_pump │\n",
      "│ 1457251204 ┆ 0.2  ┆ 0.883721 ┆ 38.0 ┆ 16.0 ┆ 43.0 ┆ heat_pump │\n",
      "└────────────┴──────┴──────────┴──────┴──────┴──────┴───────────┘\n"
     ]
    }
   ],
   "source": [
    "for key in meter_ids_dict:\n",
    "    meter_ids = meter_ids_dict[key]\n",
    "    print(f\"Working on key: {key}\")\n",
    "    if len(meter_ids) == 2:\n",
    "        load1_df = house1_data.filter(pl.col(\"sub\") == meter_ids[0])\n",
    "        load2_df = house1_data.filter(pl.col(\"sub\") == meter_ids[1])\n",
    "        combined_np = load1_df[:, 3:].to_numpy() + load2_df[:, 3:].to_numpy()\n",
    "        combined_df = pl.DataFrame(combined_np, schema=[\"Irms\", \"P\", \"Q\", \"S\"])\n",
    "        combined_df = combined_df.with_columns(label=pl.lit(key))\n",
    "        combined_df = combined_df.with_columns(unix_ts=pl.lit(load1_df[\"unix_ts\"]))\n",
    "        combined_df = combined_df.with_columns(pf=pl.col(\"P\")/pl.col(\"S\"))\n",
    "        combined_df = combined_df.with_columns(\n",
    "            pl.when(combined_df[\"S\"] != 0)\n",
    "            .then(combined_df[\"P\"]/combined_df[\"S\"])\n",
    "            .otherwise(0)\n",
    "            .alias(\"pf\")\n",
    "        )\n",
    "        combined_df = combined_df.select(transform_columns)\n",
    "        print(combined_df.head())\n",
    "        combined_df.to_pandas().to_csv(os.path.join(save_path, f\"house1_{key}.csv\"))\n",
    "    elif len(meter_ids) == 1:\n",
    "        load_df = house1_data.filter(pl.col(\"sub\") == meter_ids[0])\n",
    "        load_df = load_df.rename({\"I\": \"Irms\"})\n",
    "        load_df = load_df.with_columns(label=pl.lit(key))  \n",
    "        load_df = load_df.with_columns(\n",
    "            pl.when(load_df[\"S\"] != 0)\n",
    "            .then(load_df[\"P\"]/load_df[\"S\"])\n",
    "            .otherwise(0)\n",
    "            .alias(\"pf\")\n",
    "        )\n",
    "        load_df = load_df.select(transform_columns)\n",
    "        print(load_df.head())\n",
    "        load_df.to_pandas().to_csv(os.path.join(save_path, f\"house1_{key}.csv\"))"
   ]
  },
  {
   "cell_type": "markdown",
   "metadata": {},
   "source": [
    "# House 2"
   ]
  },
  {
   "cell_type": "code",
   "execution_count": 3,
   "metadata": {},
   "outputs": [
    {
     "data": {
      "text/plain": [
       "104588169"
      ]
     },
     "execution_count": 3,
     "metadata": {},
     "output_type": "execute_result"
    }
   ],
   "source": [
    "house2_data = pl.read_csv(\"../../data/RAE_dataset/raw_data/house2_subs_blk1.csv\")\n",
    "len(house2_data)"
   ]
  },
  {
   "cell_type": "code",
   "execution_count": 4,
   "metadata": {},
   "outputs": [],
   "source": [
    "transform_columns = [\"unix_ts\", \"Irms\", \"pf\", \"P\", \"Q\", \"S\", \"label\"]\n",
    "select_columns = [\"unix_ts\", \"sub\", \"V\", \"I\", \"P\", \"Q\", \"S\"]\n",
    "save_path = \"../../data/RAE_dataset/transform_data\""
   ]
  },
  {
   "cell_type": "code",
   "execution_count": 5,
   "metadata": {},
   "outputs": [
    {
     "data": {
      "text/html": [
       "<div><style>\n",
       ".dataframe > thead > tr,\n",
       ".dataframe > tbody > tr {\n",
       "  text-align: right;\n",
       "  white-space: pre-wrap;\n",
       "}\n",
       "</style>\n",
       "<small>shape: (5, 7)</small><table border=\"1\" class=\"dataframe\"><thead><tr><th>unix_ts</th><th>sub</th><th>V</th><th>I</th><th>P</th><th>Q</th><th>S</th></tr><tr><td>i64</td><td>i64</td><td>f64</td><td>f64</td><td>i64</td><td>i64</td><td>i64</td></tr></thead><tbody><tr><td>1505286000</td><td>1</td><td>120.9</td><td>0.9</td><td>71</td><td>57</td><td>111</td></tr><tr><td>1505286000</td><td>2</td><td>121.1</td><td>0.3</td><td>32</td><td>14</td><td>40</td></tr><tr><td>1505286000</td><td>3</td><td>121.1</td><td>0.0</td><td>0</td><td>0</td><td>0</td></tr><tr><td>1505286000</td><td>4</td><td>120.9</td><td>0.0</td><td>0</td><td>0</td><td>0</td></tr><tr><td>1505286000</td><td>5</td><td>121.1</td><td>0.0</td><td>1</td><td>0</td><td>3</td></tr></tbody></table></div>"
      ],
      "text/plain": [
       "shape: (5, 7)\n",
       "┌────────────┬─────┬───────┬─────┬─────┬─────┬─────┐\n",
       "│ unix_ts    ┆ sub ┆ V     ┆ I   ┆ P   ┆ Q   ┆ S   │\n",
       "│ ---        ┆ --- ┆ ---   ┆ --- ┆ --- ┆ --- ┆ --- │\n",
       "│ i64        ┆ i64 ┆ f64   ┆ f64 ┆ i64 ┆ i64 ┆ i64 │\n",
       "╞════════════╪═════╪═══════╪═════╪═════╪═════╪═════╡\n",
       "│ 1505286000 ┆ 1   ┆ 120.9 ┆ 0.9 ┆ 71  ┆ 57  ┆ 111 │\n",
       "│ 1505286000 ┆ 2   ┆ 121.1 ┆ 0.3 ┆ 32  ┆ 14  ┆ 40  │\n",
       "│ 1505286000 ┆ 3   ┆ 121.1 ┆ 0.0 ┆ 0   ┆ 0   ┆ 0   │\n",
       "│ 1505286000 ┆ 4   ┆ 120.9 ┆ 0.0 ┆ 0   ┆ 0   ┆ 0   │\n",
       "│ 1505286000 ┆ 5   ┆ 121.1 ┆ 0.0 ┆ 1   ┆ 0   ┆ 3   │\n",
       "└────────────┴─────┴───────┴─────┴─────┴─────┴─────┘"
      ]
     },
     "execution_count": 5,
     "metadata": {},
     "output_type": "execute_result"
    }
   ],
   "source": [
    "house2_data = house2_data.select(select_columns)\n",
    "house2_data.head()"
   ]
  },
  {
   "cell_type": "markdown",
   "metadata": {},
   "source": [
    "## Transform data"
   ]
  },
  {
   "cell_type": "markdown",
   "metadata": {},
   "source": [
    "<b>House 2 label</b>\n",
    "-  1 House Sub-Panel L1\n",
    "-  2 House Sub-Panel L2\n",
    "-  3 Lights & Plugs (general label)\n",
    "-  4 Clothes Dryer L1\n",
    "-  5 Clothes Dryer L2\n",
    "-  6 Bedroom Plugs\n",
    "-  7 Built-in Vacuum\n",
    "-  8 Boiler (for hot water and radiant heating)\n",
    "-  9 Lights & Plugs (general label)\n",
    "- 10 Clothes Washer\n",
    "- 11 Kitchen Fridge\n",
    "- 12 Lights & Plugs (general label, incl. Internet modem and network equipment)\n",
    "- 13 Bedrooms AFCI Arc-Fault Plugs\n",
    "- 14 Kitchen Counter Plugs\n",
    "- 15 Kitchen Counter Plugs\n",
    "- 16 Lights & Plugs (general label)\n",
    "- 17 Lights & Plugs (general label)\n",
    "- 18 Outside Plugs\n",
    "- 19 Dishwasher\n",
    "- 20 Lights & Plugs (general label)\n",
    "- 21 Mobile Phone Changers (garburator & microwave not installed)"
   ]
  },
  {
   "cell_type": "code",
   "execution_count": 6,
   "metadata": {},
   "outputs": [
    {
     "name": "stdout",
     "output_type": "stream",
     "text": [
      "Working on key: lights_and_plugs_3\n",
      "shape: (5, 7)\n",
      "┌────────────┬──────┬─────┬─────┬─────┬─────┬────────────────────┐\n",
      "│ unix_ts    ┆ Irms ┆ pf  ┆ P   ┆ Q   ┆ S   ┆ label              │\n",
      "│ ---        ┆ ---  ┆ --- ┆ --- ┆ --- ┆ --- ┆ ---                │\n",
      "│ i64        ┆ f64  ┆ f64 ┆ i64 ┆ i64 ┆ i64 ┆ str                │\n",
      "╞════════════╪══════╪═════╪═════╪═════╪═════╪════════════════════╡\n",
      "│ 1505286000 ┆ 0.0  ┆ 0.0 ┆ 0   ┆ 0   ┆ 0   ┆ lights_and_plugs_3 │\n",
      "│ 1505286001 ┆ 0.0  ┆ 0.0 ┆ 0   ┆ 0   ┆ 2   ┆ lights_and_plugs_3 │\n",
      "│ 1505286002 ┆ 0.0  ┆ 0.0 ┆ 0   ┆ 0   ┆ 2   ┆ lights_and_plugs_3 │\n",
      "│ 1505286003 ┆ 0.0  ┆ 0.0 ┆ 0   ┆ 0   ┆ 2   ┆ lights_and_plugs_3 │\n",
      "│ 1505286004 ┆ 0.0  ┆ 0.0 ┆ 0   ┆ 0   ┆ 2   ┆ lights_and_plugs_3 │\n",
      "└────────────┴──────┴─────┴─────┴─────┴─────┴────────────────────┘\n",
      "Working on key: lights_and_plugs_16\n",
      "shape: (5, 7)\n",
      "┌────────────┬──────┬─────┬─────┬─────┬─────┬─────────────────────┐\n",
      "│ unix_ts    ┆ Irms ┆ pf  ┆ P   ┆ Q   ┆ S   ┆ label               │\n",
      "│ ---        ┆ ---  ┆ --- ┆ --- ┆ --- ┆ --- ┆ ---                 │\n",
      "│ i64        ┆ f64  ┆ f64 ┆ i64 ┆ i64 ┆ i64 ┆ str                 │\n",
      "╞════════════╪══════╪═════╪═════╪═════╪═════╪═════════════════════╡\n",
      "│ 1505286000 ┆ 0.0  ┆ 0.0 ┆ 0   ┆ 0   ┆ 2   ┆ lights_and_plugs_16 │\n",
      "│ 1505286001 ┆ 0.0  ┆ 0.0 ┆ 0   ┆ 0   ┆ 2   ┆ lights_and_plugs_16 │\n",
      "│ 1505286002 ┆ 0.0  ┆ 0.0 ┆ 0   ┆ 0   ┆ 2   ┆ lights_and_plugs_16 │\n",
      "│ 1505286003 ┆ 0.0  ┆ 0.0 ┆ 0   ┆ 0   ┆ 2   ┆ lights_and_plugs_16 │\n",
      "│ 1505286004 ┆ 0.0  ┆ 0.0 ┆ 0   ┆ 0   ┆ 2   ┆ lights_and_plugs_16 │\n",
      "└────────────┴──────┴─────┴─────┴─────┴─────┴─────────────────────┘\n",
      "Working on key: lights_and_plugs_20\n",
      "shape: (5, 7)\n",
      "┌────────────┬──────┬─────┬─────┬─────┬─────┬─────────────────────┐\n",
      "│ unix_ts    ┆ Irms ┆ pf  ┆ P   ┆ Q   ┆ S   ┆ label               │\n",
      "│ ---        ┆ ---  ┆ --- ┆ --- ┆ --- ┆ --- ┆ ---                 │\n",
      "│ i64        ┆ f64  ┆ f64 ┆ i64 ┆ i64 ┆ i64 ┆ str                 │\n",
      "╞════════════╪══════╪═════╪═════╪═════╪═════╪═════════════════════╡\n",
      "│ 1505286000 ┆ 0.0  ┆ 0.0 ┆ 0   ┆ 0   ┆ 0   ┆ lights_and_plugs_20 │\n",
      "│ 1505286001 ┆ 0.0  ┆ 0.0 ┆ 0   ┆ 0   ┆ 2   ┆ lights_and_plugs_20 │\n",
      "│ 1505286002 ┆ 0.0  ┆ 0.0 ┆ 0   ┆ 0   ┆ 2   ┆ lights_and_plugs_20 │\n",
      "│ 1505286003 ┆ 0.0  ┆ 0.0 ┆ 0   ┆ 0   ┆ 0   ┆ lights_and_plugs_20 │\n",
      "│ 1505286004 ┆ 0.0  ┆ 0.0 ┆ 0   ┆ 0   ┆ 0   ┆ lights_and_plugs_20 │\n",
      "└────────────┴──────┴─────┴─────┴─────┴─────┴─────────────────────┘\n"
     ]
    }
   ],
   "source": [
    "house2_meters = {\n",
    "    \"lights_and_plugs_3\": [3],\n",
    "    \"lights_and_plugs_16\": [16],\n",
    "    \"lights_and_plugs_20\": [20]\n",
    "}\n",
    "\n",
    "for key in house2_meters:\n",
    "    meter_ids = house2_meters[key]\n",
    "    print(f\"Working on key: {key}\")\n",
    "    if len(meter_ids) == 2:\n",
    "        load1_df = house2_data.filter(pl.col(\"sub\") == meter_ids[0])\n",
    "        load2_df = house2_data.filter(pl.col(\"sub\") == meter_ids[1])\n",
    "        combined_np = load1_df[:, 3:].to_numpy() + load2_df[:, 3:].to_numpy()\n",
    "        combined_df = pl.DataFrame(combined_np, schema=[\"Irms\", \"P\", \"Q\", \"S\"])\n",
    "        combined_df = combined_df.with_columns(label=pl.lit(key))\n",
    "        combined_df = combined_df.with_columns(unix_ts=pl.lit(load1_df[\"unix_ts\"]))\n",
    "        combined_df = combined_df.with_columns(\n",
    "            pl.when(combined_df[\"S\"] != 0)\n",
    "            .then(combined_df[\"P\"]/combined_df[\"S\"])\n",
    "            .otherwise(0)\n",
    "            .alias(\"pf\")\n",
    "        )\n",
    "        combined_df = combined_df.select(transform_columns)\n",
    "        print(combined_df.head())\n",
    "        combined_df.to_pandas().to_csv(os.path.join(save_path, f\"house2_{key}.csv\"))\n",
    "    elif len(meter_ids) == 1:\n",
    "        load_df = house2_data.filter(pl.col(\"sub\") == meter_ids[0])\n",
    "        load_df = load_df.rename({\"I\": \"Irms\"})\n",
    "        load_df = load_df.with_columns(label=pl.lit(key))  \n",
    "        load_df = load_df.with_columns(\n",
    "            pl.when(load_df[\"S\"] != 0)\n",
    "            .then(load_df[\"P\"]/load_df[\"S\"])\n",
    "            .otherwise(0)\n",
    "            .alias(\"pf\")\n",
    "        )\n",
    "        load_df = load_df.select(transform_columns)\n",
    "        print(load_df.head())\n",
    "        load_df.to_pandas().to_csv(os.path.join(save_path, f\"house2_{key}.csv\"))"
   ]
  }
 ],
 "metadata": {
  "kernelspec": {
   "display_name": "mylab-nilm-env",
   "language": "python",
   "name": "python3"
  },
  "language_info": {
   "codemirror_mode": {
    "name": "ipython",
    "version": 3
   },
   "file_extension": ".py",
   "mimetype": "text/x-python",
   "name": "python",
   "nbconvert_exporter": "python",
   "pygments_lexer": "ipython3",
   "version": "3.12.1"
  }
 },
 "nbformat": 4,
 "nbformat_minor": 2
}
